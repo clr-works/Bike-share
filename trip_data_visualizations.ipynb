{
 "cells": [
  {
   "cell_type": "code",
   "execution_count": 1,
   "metadata": {},
   "outputs": [],
   "source": [
    "# importing relevant libraries\n",
    "\n",
    "import numpy as np\n",
    "import pandas as pd\n",
    "import datetime\n",
    "import matplotlib.pyplot as plt\n",
    "from pandas.plotting import scatter_matrix\n",
    "\n",
    "\n",
    "from sklearn.linear_model import LinearRegression\n",
    "\n",
    "from sklearn.metrics import mean_squared_error, r2_score\n",
    "\n",
    "import seaborn as sns\n",
    "import matplotlib.pyplot as plt"
   ]
  },
  {
   "cell_type": "code",
   "execution_count": 2,
   "metadata": {},
   "outputs": [],
   "source": [
    "pd.set_option('display.max_rows', 20000)\n",
    "pd.set_option('display.max_columns', 500)\n",
    "pd.set_option('display.width', 1000)"
   ]
  },
  {
   "cell_type": "code",
   "execution_count": 3,
   "metadata": {},
   "outputs": [],
   "source": [
    "trip_data=pd.read_csv('trip.csv', sep=',', header='infer')"
   ]
  },
  {
   "cell_type": "code",
   "execution_count": 4,
   "metadata": {},
   "outputs": [
    {
     "data": {
      "text/html": [
       "<div>\n",
       "<style scoped>\n",
       "    .dataframe tbody tr th:only-of-type {\n",
       "        vertical-align: middle;\n",
       "    }\n",
       "\n",
       "    .dataframe tbody tr th {\n",
       "        vertical-align: top;\n",
       "    }\n",
       "\n",
       "    .dataframe thead th {\n",
       "        text-align: right;\n",
       "    }\n",
       "</style>\n",
       "<table border=\"1\" class=\"dataframe\">\n",
       "  <thead>\n",
       "    <tr style=\"text-align: right;\">\n",
       "      <th></th>\n",
       "      <th>id</th>\n",
       "      <th>duration</th>\n",
       "      <th>start_date</th>\n",
       "      <th>start_station_name</th>\n",
       "      <th>start_station_id</th>\n",
       "      <th>end_date</th>\n",
       "      <th>end_station_name</th>\n",
       "      <th>end_station_id</th>\n",
       "      <th>bike_id</th>\n",
       "      <th>subscription_type</th>\n",
       "      <th>zip_code</th>\n",
       "    </tr>\n",
       "  </thead>\n",
       "  <tbody>\n",
       "    <tr>\n",
       "      <th>0</th>\n",
       "      <td>4576</td>\n",
       "      <td>63</td>\n",
       "      <td>8/29/2013 14:13</td>\n",
       "      <td>South Van Ness at Market</td>\n",
       "      <td>66</td>\n",
       "      <td>8/29/2013 14:14</td>\n",
       "      <td>South Van Ness at Market</td>\n",
       "      <td>66</td>\n",
       "      <td>520</td>\n",
       "      <td>Subscriber</td>\n",
       "      <td>94127</td>\n",
       "    </tr>\n",
       "    <tr>\n",
       "      <th>1</th>\n",
       "      <td>4607</td>\n",
       "      <td>70</td>\n",
       "      <td>8/29/2013 14:42</td>\n",
       "      <td>San Jose City Hall</td>\n",
       "      <td>10</td>\n",
       "      <td>8/29/2013 14:43</td>\n",
       "      <td>San Jose City Hall</td>\n",
       "      <td>10</td>\n",
       "      <td>661</td>\n",
       "      <td>Subscriber</td>\n",
       "      <td>95138</td>\n",
       "    </tr>\n",
       "    <tr>\n",
       "      <th>2</th>\n",
       "      <td>4130</td>\n",
       "      <td>71</td>\n",
       "      <td>8/29/2013 10:16</td>\n",
       "      <td>Mountain View City Hall</td>\n",
       "      <td>27</td>\n",
       "      <td>8/29/2013 10:17</td>\n",
       "      <td>Mountain View City Hall</td>\n",
       "      <td>27</td>\n",
       "      <td>48</td>\n",
       "      <td>Subscriber</td>\n",
       "      <td>97214</td>\n",
       "    </tr>\n",
       "    <tr>\n",
       "      <th>3</th>\n",
       "      <td>4251</td>\n",
       "      <td>77</td>\n",
       "      <td>8/29/2013 11:29</td>\n",
       "      <td>San Jose City Hall</td>\n",
       "      <td>10</td>\n",
       "      <td>8/29/2013 11:30</td>\n",
       "      <td>San Jose City Hall</td>\n",
       "      <td>10</td>\n",
       "      <td>26</td>\n",
       "      <td>Subscriber</td>\n",
       "      <td>95060</td>\n",
       "    </tr>\n",
       "    <tr>\n",
       "      <th>4</th>\n",
       "      <td>4299</td>\n",
       "      <td>83</td>\n",
       "      <td>8/29/2013 12:02</td>\n",
       "      <td>South Van Ness at Market</td>\n",
       "      <td>66</td>\n",
       "      <td>8/29/2013 12:04</td>\n",
       "      <td>Market at 10th</td>\n",
       "      <td>67</td>\n",
       "      <td>319</td>\n",
       "      <td>Subscriber</td>\n",
       "      <td>94103</td>\n",
       "    </tr>\n",
       "  </tbody>\n",
       "</table>\n",
       "</div>"
      ],
      "text/plain": [
       "     id  duration       start_date        start_station_name  start_station_id         end_date          end_station_name  end_station_id  bike_id subscription_type zip_code\n",
       "0  4576        63  8/29/2013 14:13  South Van Ness at Market                66  8/29/2013 14:14  South Van Ness at Market              66      520        Subscriber    94127\n",
       "1  4607        70  8/29/2013 14:42        San Jose City Hall                10  8/29/2013 14:43        San Jose City Hall              10      661        Subscriber    95138\n",
       "2  4130        71  8/29/2013 10:16   Mountain View City Hall                27  8/29/2013 10:17   Mountain View City Hall              27       48        Subscriber    97214\n",
       "3  4251        77  8/29/2013 11:29        San Jose City Hall                10  8/29/2013 11:30        San Jose City Hall              10       26        Subscriber    95060\n",
       "4  4299        83  8/29/2013 12:02  South Van Ness at Market                66  8/29/2013 12:04            Market at 10th              67      319        Subscriber    94103"
      ]
     },
     "execution_count": 4,
     "metadata": {},
     "output_type": "execute_result"
    }
   ],
   "source": [
    "trip_data.head()"
   ]
  },
  {
   "cell_type": "code",
   "execution_count": 66,
   "metadata": {},
   "outputs": [],
   "source": [
    "# Two distinct series for weekend and weekday\n",
    "\n",
    "trip_data['start_date']=pd.to_datetime(trip_data['start_date'])\n",
    "\n",
    "trip_data['day_week']=trip_data['start_date'].dt.weekday\n",
    "\n",
    "trip_data['duration_minutes']= trip_data['duration']/60\n",
    "\n",
    "trip_data_WD = trip_data[trip_data['day_week'].isin([0,1,2,3,4])]\n",
    "\n",
    "trip_data_WE = trip_data[trip_data['day_week'].isin([5,6])]"
   ]
  },
  {
   "cell_type": "code",
   "execution_count": 18,
   "metadata": {},
   "outputs": [
    {
     "data": {
      "image/png": "[encoded data removed]",
      "text/plain": [
       "<Figure size 1080x432 with 2 Axes>"
      ]
     },
     "metadata": {
      "needs_background": "light"
     },
     "output_type": "display_data"
    }
   ],
   "source": [
    "# DURATION OF TRIPS HISTOGRAMS\n",
    "\n",
    "# transform second duration into minutes duration\n",
    "\n",
    "trip_data['duration_minutes']= trip_data['duration']/60\n",
    "\n",
    "trip_data_capped= trip_data[trip_data['duration']<5000]\n",
    "\n",
    "#trip_data_capped = trip_data\n",
    "\n",
    "fig, ax= plt.subplots(1,2,figsize=[15,6])\n",
    "\n",
    "sns.distplot(trip_data_capped['duration_minutes'], kde=True, color=(0.0, 0.0, 0.0, 0.0),ax=ax[0])\n",
    "ax[0].set_xlabel('Duration in Minutes')\n",
    "ax[0].set_ylabel('Density (Total Trips)')\n",
    "sns.boxplot(trip_data_capped['duration_minutes'], ax=ax[1], color='white')\n",
    "ax[1].set_xlabel('Duration in Minutes')\n",
    "\n",
    "#ax.set_yscale('log')\n",
    "#ax.legend(['Logarithmic Scale'], loc='upper center')\n",
    "\n",
    "\n",
    "#ax2=fig.add_axes([0.60,0.45,0.29,0.4])\n",
    "#sns.distplot(trip_data_capped['duration_minutes'], kde=True, color='#FF6347')\n",
    "#ax2.set_xlabel('Duration in Minutes')\n",
    "#ax2.set_ylabel('Number of Trips')\n",
    "#ax2.legend(['Linear Scale'], loc='upper center')\n",
    "\n",
    "plt.savefig('Dist_duration.png')\n",
    "\n",
    "plt.show()"
   ]
  },
  {
   "cell_type": "code",
   "execution_count": 19,
   "metadata": {},
   "outputs": [],
   "source": [
    "# Equal stations data\n",
    "\n",
    "# adding a cap and the subscription type , WD\n",
    "\n",
    "trip_data_equal_WD= trip_data_WD[trip_data_WD['start_station_id']== trip_data_WD['end_station_id']].copy()\n",
    "\n",
    "trip_data_equal_cappedCWD= trip_data_equal_WD[(trip_data_equal_WD['duration']<5000) & (trip_data_equal_WD['subscription_type']=='Customer')]\n",
    "\n",
    "trip_data_equal_cappedSWD= trip_data_equal_WD[(trip_data_equal_WD['duration']<5000) & (trip_data_equal_WD['subscription_type']=='Subscriber')]\n",
    "\n",
    "# adding a cap and the subscription type , WE\n",
    "\n",
    "trip_data_equal_WE= trip_data_WE[trip_data_WE['start_station_id']==trip_data_WE['end_station_id']].copy()\n",
    "\n",
    "trip_data_equal_cappedCWE= trip_data_equal_WE[(trip_data_equal_WE['duration']<5000) & (trip_data_equal_WE['subscription_type']=='Customer')]\n",
    "\n",
    "trip_data_equal_cappedSWE= trip_data_equal_WE[(trip_data_equal_WE['duration']<5000) & (trip_data_equal_WE['subscription_type']=='Subscriber')]"
   ]
  },
  {
   "cell_type": "code",
   "execution_count": 20,
   "metadata": {},
   "outputs": [
    {
     "data": {
      "text/html": [
       "<div>\n",
       "<style scoped>\n",
       "    .dataframe tbody tr th:only-of-type {\n",
       "        vertical-align: middle;\n",
       "    }\n",
       "\n",
       "    .dataframe tbody tr th {\n",
       "        vertical-align: top;\n",
       "    }\n",
       "\n",
       "    .dataframe thead th {\n",
       "        text-align: right;\n",
       "    }\n",
       "</style>\n",
       "<table border=\"1\" class=\"dataframe\">\n",
       "  <thead>\n",
       "    <tr style=\"text-align: right;\">\n",
       "      <th></th>\n",
       "      <th>id</th>\n",
       "      <th>duration</th>\n",
       "      <th>start_date</th>\n",
       "      <th>start_station_name</th>\n",
       "      <th>start_station_id</th>\n",
       "      <th>end_date</th>\n",
       "      <th>end_station_name</th>\n",
       "      <th>end_station_id</th>\n",
       "      <th>bike_id</th>\n",
       "      <th>subscription_type</th>\n",
       "      <th>zip_code</th>\n",
       "      <th>day_week</th>\n",
       "      <th>duration_minutes</th>\n",
       "    </tr>\n",
       "  </thead>\n",
       "  <tbody>\n",
       "    <tr>\n",
       "      <th>1463</th>\n",
       "      <td>7250</td>\n",
       "      <td>68</td>\n",
       "      <td>2013-08-31 16:53:00</td>\n",
       "      <td>University and Emerson</td>\n",
       "      <td>35</td>\n",
       "      <td>8/31/2013 16:54</td>\n",
       "      <td>University and Emerson</td>\n",
       "      <td>35</td>\n",
       "      <td>100</td>\n",
       "      <td>Subscriber</td>\n",
       "      <td>97214</td>\n",
       "      <td>5</td>\n",
       "      <td>1.133333</td>\n",
       "    </tr>\n",
       "  </tbody>\n",
       "</table>\n",
       "</div>"
      ],
      "text/plain": [
       "        id  duration          start_date      start_station_name  start_station_id         end_date        end_station_name  end_station_id  bike_id subscription_type zip_code  day_week  duration_minutes\n",
       "1463  7250        68 2013-08-31 16:53:00  University and Emerson                35  8/31/2013 16:54  University and Emerson              35      100        Subscriber    97214         5          1.133333"
      ]
     },
     "execution_count": 20,
     "metadata": {},
     "output_type": "execute_result"
    }
   ],
   "source": [
    "trip_data_equal_cappedSWE.head(1)"
   ]
  },
  {
   "cell_type": "code",
   "execution_count": 21,
   "metadata": {},
   "outputs": [
    {
     "data": {
      "image/png": "[encoded data removed]",
      "text/plain": [
       "<Figure size 1080x432 with 2 Axes>"
      ]
     },
     "metadata": {
      "needs_background": "light"
     },
     "output_type": "display_data"
    }
   ],
   "source": [
    "# Histogram of Duration of Trips of equal stations\n",
    "\n",
    "def plotf(data1,data2,ax):\n",
    "\n",
    "    g=sns.distplot(data1, kde=False, label='Customer', bins=20, ax=ax)\n",
    "    g=sns.distplot(data2, kde=False, label='Subscriber',bins=20,  ax=ax)\n",
    "    return g\n",
    "\n",
    "fig, ax = plt.subplots(1,2, sharex=True, sharey=True, figsize=[15,6])\n",
    "plotf(trip_data_equal_cappedCWD['duration_minutes'],trip_data_equal_cappedSWD['duration_minutes'],ax[0])\n",
    "plotf(trip_data_equal_cappedCWE['duration_minutes'],trip_data_equal_cappedSWE['duration_minutes'], ax[1])\n",
    "ax[0].set_ylabel('Number of Trips')\n",
    "ax[0].set_xlabel('Duration in Minutes')\n",
    "ax[0].legend()\n",
    "ax[0].set_title('Week')\n",
    "ax[1].legend()\n",
    "ax[1].set_xlabel('Duration in Minutes')\n",
    "ax[1].set_title('Weekend')\n",
    "#ax[1].set_yscale('log')\n",
    "\n",
    "plt.savefig('duration_equalst_log.png')\n",
    "\n",
    "plt.show()"
   ]
  },
  {
   "cell_type": "code",
   "execution_count": 134,
   "metadata": {},
   "outputs": [
    {
     "data": {
      "image/png": "[encoded data removed]",
      "text/plain": [
       "<Figure size 1080x432 with 2 Axes>"
      ]
     },
     "metadata": {
      "needs_background": "light"
     },
     "output_type": "display_data"
    }
   ],
   "source": [
    "# Histogram of Duration of Trips between different stations\n",
    "\n",
    "trip_data_nequal_WD= trip_data_WD[trip_data_WD['start_station_id']!= trip_data_WD['end_station_id']]\n",
    "\n",
    "trip_data_nequal_cappedCWD= trip_data_nequal_WD[(trip_data_nequal_WD['duration']<5000) & (trip_data_nequal_WD['subscription_type']=='Customer')]\n",
    "\n",
    "trip_data_nequal_cappedSWD= trip_data_nequal_WD[(trip_data_nequal_WD['duration']<5000) & (trip_data_nequal_WD['subscription_type']=='Subscriber')]\n",
    "\n",
    "# adding a cap and the subscription type , WE\n",
    "\n",
    "trip_data_nequal_WE= trip_data_WE[trip_data_WE['start_station_id']!=trip_data_WE['end_station_id']].copy()\n",
    "\n",
    "trip_data_nequal_cappedCWE= trip_data_nequal_WE[(trip_data_nequal_WE['duration']<5000) & (trip_data_nequal_WE['subscription_type']=='Customer')]\n",
    "\n",
    "trip_data_nequal_cappedSWE= trip_data_nequal_WE[(trip_data_nequal_WE['duration']<5000) & (trip_data_nequal_WE['subscription_type']=='Subscriber')]\n",
    "\n",
    "\n",
    "fig, ax = plt.subplots(1,2, sharex=True, sharey=True, figsize=[15,6])\n",
    "plotf(trip_data_nequal_cappedCWD['duration_minutes'],trip_data_nequal_cappedSWD['duration_minutes'],ax[0])\n",
    "plotf(trip_data_nequal_cappedCWE['duration_minutes'],trip_data_nequal_cappedSWE['duration_minutes'], ax[1])\n",
    "ax[0].set_ylabel('Number of Trips')\n",
    "ax[0].set_xlabel('Duration in Minutes')\n",
    "ax[0].legend()\n",
    "ax[0].set_title('Week')\n",
    "#ax[0].set_yscale('log')\n",
    "ax[1].legend()\n",
    "ax[1].set_title('Weekend')\n",
    "ax[1].set_xlabel('Duration in Minutes')\n",
    "\n",
    "plt.savefig('duration_nestat_log')\n",
    "\n",
    "plt.show()"
   ]
  },
  {
   "cell_type": "code",
   "execution_count": 111,
   "metadata": {},
   "outputs": [
    {
     "data": {
      "text/plain": [
       "Subscriber    566746\n",
       "Customer      103213\n",
       "Name: subscription_type, dtype: int64"
      ]
     },
     "execution_count": 111,
     "metadata": {},
     "output_type": "execute_result"
    }
   ],
   "source": [
    "trip_data['subscription_type'].value_counts()"
   ]
  },
  {
   "cell_type": "code",
   "execution_count": 191,
   "metadata": {},
   "outputs": [
    {
     "data": {
      "text/html": [
       "<div>\n",
       "<style scoped>\n",
       "    .dataframe tbody tr th:only-of-type {\n",
       "        vertical-align: middle;\n",
       "    }\n",
       "\n",
       "    .dataframe tbody tr th {\n",
       "        vertical-align: top;\n",
       "    }\n",
       "\n",
       "    .dataframe thead th {\n",
       "        text-align: right;\n",
       "    }\n",
       "</style>\n",
       "<table border=\"1\" class=\"dataframe\">\n",
       "  <thead>\n",
       "    <tr style=\"text-align: right;\">\n",
       "      <th></th>\n",
       "      <th>id</th>\n",
       "      <th>duration</th>\n",
       "      <th>start_date</th>\n",
       "      <th>start_station_name</th>\n",
       "      <th>start_station_id</th>\n",
       "      <th>end_date</th>\n",
       "      <th>end_station_name</th>\n",
       "      <th>end_station_id</th>\n",
       "      <th>bike_id</th>\n",
       "      <th>subscription_type</th>\n",
       "      <th>zip_code</th>\n",
       "      <th>day_week</th>\n",
       "      <th>duration_minutes</th>\n",
       "      <th>week</th>\n",
       "      <th>weekend</th>\n",
       "      <th>week_indicator</th>\n",
       "    </tr>\n",
       "  </thead>\n",
       "  <tbody>\n",
       "    <tr>\n",
       "      <th>0</th>\n",
       "      <td>4576</td>\n",
       "      <td>63</td>\n",
       "      <td>2013-08-29 14:13:00</td>\n",
       "      <td>South Van Ness at Market</td>\n",
       "      <td>66</td>\n",
       "      <td>8/29/2013 14:14</td>\n",
       "      <td>South Van Ness at Market</td>\n",
       "      <td>66</td>\n",
       "      <td>520</td>\n",
       "      <td>Subscriber</td>\n",
       "      <td>94127</td>\n",
       "      <td>3</td>\n",
       "      <td>1.05</td>\n",
       "      <td>True</td>\n",
       "      <td>False</td>\n",
       "      <td>week</td>\n",
       "    </tr>\n",
       "  </tbody>\n",
       "</table>\n",
       "</div>"
      ],
      "text/plain": [
       "     id  duration          start_date        start_station_name  start_station_id         end_date          end_station_name  end_station_id  bike_id subscription_type zip_code  day_week  duration_minutes  week  weekend week_indicator\n",
       "0  4576        63 2013-08-29 14:13:00  South Van Ness at Market                66  8/29/2013 14:14  South Van Ness at Market              66      520        Subscriber    94127         3              1.05  True    False           week"
      ]
     },
     "execution_count": 191,
     "metadata": {},
     "output_type": "execute_result"
    }
   ],
   "source": [
    "# equal stations weekday data\n",
    "\n",
    "trip_data['duration_minutes']= trip_data['duration']/60\n",
    "\n",
    "trip_data.head(1)\n"
   ]
  },
  {
   "cell_type": "code",
   "execution_count": 192,
   "metadata": {},
   "outputs": [
    {
     "data": {
      "text/plain": [
       "3"
      ]
     },
     "execution_count": 192,
     "metadata": {},
     "output_type": "execute_result"
    }
   ],
   "source": [
    "trip_data.iloc[0]['day_week']"
   ]
  },
  {
   "cell_type": "code",
   "execution_count": 193,
   "metadata": {},
   "outputs": [],
   "source": [
    "week_indicator = []\n",
    "\n",
    "for value in range(0,len(trip_data['duration_minutes'])):\n",
    "    if trip_data.iloc[value]['day_week']<5:\n",
    "        week_indicator.append('week')\n",
    "    else:\n",
    "        week_indicator.append('weekend')"
   ]
  },
  {
   "cell_type": "code",
   "execution_count": 194,
   "metadata": {},
   "outputs": [],
   "source": [
    "trip_data['week_indicator'] = week_indicator\n",
    "\n",
    "# cap data and select on condition equal stations : \n",
    "\n",
    "trip_data_equal_capped = trip_data[(trip_data['duration']<5000) & (trip_data['start_station_id']==trip_data['end_station_id'])]"
   ]
  },
  {
   "cell_type": "code",
   "execution_count": 196,
   "metadata": {},
   "outputs": [
    {
     "data": {
      "text/html": [
       "<div>\n",
       "<style scoped>\n",
       "    .dataframe tbody tr th:only-of-type {\n",
       "        vertical-align: middle;\n",
       "    }\n",
       "\n",
       "    .dataframe tbody tr th {\n",
       "        vertical-align: top;\n",
       "    }\n",
       "\n",
       "    .dataframe thead th {\n",
       "        text-align: right;\n",
       "    }\n",
       "</style>\n",
       "<table border=\"1\" class=\"dataframe\">\n",
       "  <thead>\n",
       "    <tr style=\"text-align: right;\">\n",
       "      <th></th>\n",
       "      <th>id</th>\n",
       "      <th>duration</th>\n",
       "      <th>start_date</th>\n",
       "      <th>start_station_name</th>\n",
       "      <th>start_station_id</th>\n",
       "      <th>end_date</th>\n",
       "      <th>end_station_name</th>\n",
       "      <th>end_station_id</th>\n",
       "      <th>bike_id</th>\n",
       "      <th>subscription_type</th>\n",
       "      <th>zip_code</th>\n",
       "      <th>day_week</th>\n",
       "      <th>duration_minutes</th>\n",
       "      <th>week</th>\n",
       "      <th>weekend</th>\n",
       "      <th>week_indicator</th>\n",
       "    </tr>\n",
       "  </thead>\n",
       "  <tbody>\n",
       "    <tr>\n",
       "      <th>0</th>\n",
       "      <td>4576</td>\n",
       "      <td>63</td>\n",
       "      <td>2013-08-29 14:13:00</td>\n",
       "      <td>South Van Ness at Market</td>\n",
       "      <td>66</td>\n",
       "      <td>8/29/2013 14:14</td>\n",
       "      <td>South Van Ness at Market</td>\n",
       "      <td>66</td>\n",
       "      <td>520</td>\n",
       "      <td>Subscriber</td>\n",
       "      <td>94127</td>\n",
       "      <td>3</td>\n",
       "      <td>1.05</td>\n",
       "      <td>True</td>\n",
       "      <td>False</td>\n",
       "      <td>week</td>\n",
       "    </tr>\n",
       "  </tbody>\n",
       "</table>\n",
       "</div>"
      ],
      "text/plain": [
       "     id  duration          start_date        start_station_name  start_station_id         end_date          end_station_name  end_station_id  bike_id subscription_type zip_code  day_week  duration_minutes  week  weekend week_indicator\n",
       "0  4576        63 2013-08-29 14:13:00  South Van Ness at Market                66  8/29/2013 14:14  South Van Ness at Market              66      520        Subscriber    94127         3              1.05  True    False           week"
      ]
     },
     "execution_count": 196,
     "metadata": {},
     "output_type": "execute_result"
    }
   ],
   "source": [
    "trip_data_equal_capped.head(1)"
   ]
  },
  {
   "cell_type": "code",
   "execution_count": 230,
   "metadata": {
    "scrolled": true
   },
   "outputs": [
    {
     "data": {
      "image/png": "[encoded data removed]",
      "text/plain": [
       "<Figure size 720x360 with 2 Axes>"
      ]
     },
     "metadata": {
      "needs_background": "light"
     },
     "output_type": "display_data"
    }
   ],
   "source": [
    "palette={'Customer':(0.9, 0.0, 0.0), 'Subscriber':(0.0, 0.9, 0.0)}\n",
    "\n",
    "g = sns.FacetGrid(trip_data_equal_capped, col='week_indicator', hue='subscription_type', palette=palette, height=5)\n",
    "g.map(plt.hist, 'duration_minutes')\n",
    "g.set(xlabel='Duration in Minutes')\n",
    "handles = g._legend_data.values()\n",
    "labels = g._legend_data.keys()\n",
    "g.fig.legend(handles=handles, labels=labels, loc='center right', ncol=1)\n",
    "#g.fig.legend(handles=handles, labels=labels, loc='lower center', ncol=3)\n",
    "#g.fig.legend(handles=handles, labels=labels, loc='upper left', ncol=3)\n",
    "#g.fig.subplots_adjust(top=0.92, bottom=0.08)\n",
    "\n",
    "plt.savefig('equal_stations_dis.png')\n"
   ]
  },
  {
   "cell_type": "code",
   "execution_count": 198,
   "metadata": {},
   "outputs": [
    {
     "data": {
      "text/plain": [
       "array(['week', 'weekend'], dtype=object)"
      ]
     },
     "execution_count": 198,
     "metadata": {},
     "output_type": "execute_result"
    }
   ],
   "source": [
    "trip_data_equal_capped['week_indicator'].unique()"
   ]
  },
  {
   "cell_type": "code",
   "execution_count": 199,
   "metadata": {},
   "outputs": [],
   "source": [
    "## add distribution for cathegory subscriber over the weekend:\n",
    "\n",
    "trip_data_equal_capped_SWD=trip_data_equal_capped[(trip_data_equal_capped['subscription_type']=='Subscriber') & (trip_data_equal_capped['week_indicator']=='weekend')]"
   ]
  },
  {
   "cell_type": "code",
   "execution_count": 167,
   "metadata": {},
   "outputs": [],
   "source": [
    "# cap data and select on condition equal stations : \n",
    "\n",
    "trip_data_nequal_capped = trip_data[(trip_data['duration']<5000) & (trip_data['start_station_id']!=trip_data['end_station_id'])]"
   ]
  },
  {
   "cell_type": "code",
   "execution_count": 228,
   "metadata": {},
   "outputs": [
    {
     "data": {
      "image/png": "[encoded data removed]",
      "text/plain": [
       "<Figure size 720x360 with 2 Axes>"
      ]
     },
     "metadata": {
      "needs_background": "light"
     },
     "output_type": "display_data"
    }
   ],
   "source": [
    "palette={'Customer':(0.9, 0.0, 0.0), 'Subscriber':(0.0, 0.9, 0.0)}\n",
    "\n",
    "\n",
    "g = sns.FacetGrid(trip_data_nequal_capped, col='week_indicator', hue='subscription_type', palette=palette, height=5)\n",
    "g.map(plt.hist, 'duration_minutes')\n",
    "handles = g._legend_data.values()\n",
    "labels = g._legend_data.keys()\n",
    "g.fig.legend(handles=handles, labels=labels, loc='center right', ncol=1)\n",
    "#g.fig.legend(handles=handles, labels=labels, loc='lower center', ncol=3)\n",
    "#g.fig.legend(handles=handles, labels=labels, loc='upper left', ncol=3)\n",
    "g.fig.subplots_adjust(top=0.92, bottom=0.08)\n",
    "plt.savefig('not_equal_dis.png')"
   ]
  },
  {
   "cell_type": "code",
   "execution_count": 80,
   "metadata": {},
   "outputs": [],
   "source": [
    "# Number of Trips per Month of the Year/ customer type\n",
    "## SERIES FOR WEEKDAY\n",
    "\n",
    "trip_data_month_WD=trip_data_WD[['start_date','subscription_type']].copy() \n",
    "\n",
    "trip_data_month_WD['start_date_month']=trip_data_month_WD['start_date'].dt.month\n",
    "\n",
    "#trip_data_month_WD[trip_data_month_WD['start_date_month']==1]['start_date_month'].value_counts()\n",
    "\n",
    "trip_month_grouped_WD = trip_data_month_WD.groupby(['subscription_type']).agg({'start_date_month': 'value_counts'})\n",
    "\n",
    "trip_month_grouped_WD.rename(columns={'start_date_month':'Number of Trips'}, inplace=True)\n",
    "\n",
    "trip_month_grouped_WD.reset_index(inplace=True)\n",
    "\n",
    "## SERIES FOR WEEKEND\n",
    "\n",
    "trip_data_month_WE=trip_data_WE[['start_date','subscription_type']].copy() \n",
    "\n",
    "trip_data_month_WE['start_date_month']=trip_data_month_WE['start_date'].dt.month\n",
    "\n",
    "#trip_data_month_WE[trip_data_month_WE['start_date_month']==1]['start_date_month'].value_counts()\n",
    "\n",
    "trip_month_grouped_WE = trip_data_month_WE.groupby(['subscription_type']).agg({'start_date_month': 'value_counts'})\n",
    "\n",
    "trip_month_grouped_WE.rename(columns={'start_date_month':'Number of Trips'}, inplace=True)\n",
    "\n",
    "trip_month_grouped_WE.reset_index(inplace=True)"
   ]
  },
  {
   "cell_type": "code",
   "execution_count": 16,
   "metadata": {},
   "outputs": [
    {
     "ename": "NameError",
     "evalue": "name 'trip_month_grouped_WD' is not defined",
     "output_type": "error",
     "traceback": [
      "\u001b[0;31m---------------------------------------------------------------------------\u001b[0m",
      "\u001b[0;31mNameError\u001b[0m                                 Traceback (most recent call last)",
      "\u001b[0;32m<ipython-input-16-6a4f176eb506>\u001b[0m in \u001b[0;36m<module>\u001b[0;34m\u001b[0m\n\u001b[1;32m      7\u001b[0m \u001b[0;34m\u001b[0m\u001b[0m\n\u001b[1;32m      8\u001b[0m \u001b[0mfig\u001b[0m\u001b[0;34m,\u001b[0m \u001b[0max\u001b[0m \u001b[0;34m=\u001b[0m \u001b[0mplt\u001b[0m\u001b[0;34m.\u001b[0m\u001b[0msubplots\u001b[0m\u001b[0;34m(\u001b[0m\u001b[0;36m1\u001b[0m\u001b[0;34m,\u001b[0m\u001b[0;36m2\u001b[0m\u001b[0;34m,\u001b[0m\u001b[0msharex\u001b[0m\u001b[0;34m=\u001b[0m\u001b[0;32mTrue\u001b[0m\u001b[0;34m,\u001b[0m \u001b[0msharey\u001b[0m\u001b[0;34m=\u001b[0m\u001b[0;32mTrue\u001b[0m\u001b[0;34m,\u001b[0m \u001b[0mfigsize\u001b[0m\u001b[0;34m=\u001b[0m\u001b[0;34m[\u001b[0m\u001b[0;36m15\u001b[0m\u001b[0;34m,\u001b[0m\u001b[0;36m6\u001b[0m\u001b[0;34m]\u001b[0m\u001b[0;34m)\u001b[0m\u001b[0;34m\u001b[0m\u001b[0;34m\u001b[0m\u001b[0m\n\u001b[0;32m----> 9\u001b[0;31m \u001b[0mplotb\u001b[0m\u001b[0;34m(\u001b[0m\u001b[0mx\u001b[0m\u001b[0;34m=\u001b[0m\u001b[0;34m'start_date_month'\u001b[0m\u001b[0;34m,\u001b[0m \u001b[0my\u001b[0m\u001b[0;34m=\u001b[0m\u001b[0;34m'Number of Trips'\u001b[0m\u001b[0;34m,\u001b[0m\u001b[0mdata\u001b[0m\u001b[0;34m=\u001b[0m\u001b[0mtrip_month_grouped_WD\u001b[0m\u001b[0;34m,\u001b[0m\u001b[0max\u001b[0m\u001b[0;34m=\u001b[0m\u001b[0max\u001b[0m\u001b[0;34m[\u001b[0m\u001b[0;36m0\u001b[0m\u001b[0;34m]\u001b[0m\u001b[0;34m)\u001b[0m\u001b[0;34m\u001b[0m\u001b[0;34m\u001b[0m\u001b[0m\n\u001b[0m\u001b[1;32m     10\u001b[0m \u001b[0mplotb\u001b[0m\u001b[0;34m(\u001b[0m\u001b[0mx\u001b[0m\u001b[0;34m=\u001b[0m\u001b[0;34m'start_date_month'\u001b[0m\u001b[0;34m,\u001b[0m \u001b[0my\u001b[0m\u001b[0;34m=\u001b[0m\u001b[0;34m'Number of Trips'\u001b[0m\u001b[0;34m,\u001b[0m\u001b[0mdata\u001b[0m\u001b[0;34m=\u001b[0m\u001b[0mtrip_month_grouped_WE\u001b[0m\u001b[0;34m,\u001b[0m\u001b[0max\u001b[0m\u001b[0;34m=\u001b[0m\u001b[0max\u001b[0m\u001b[0;34m[\u001b[0m\u001b[0;36m1\u001b[0m\u001b[0;34m]\u001b[0m\u001b[0;34m)\u001b[0m\u001b[0;34m\u001b[0m\u001b[0;34m\u001b[0m\u001b[0m\n\u001b[1;32m     11\u001b[0m \u001b[0max\u001b[0m\u001b[0;34m[\u001b[0m\u001b[0;36m0\u001b[0m\u001b[0;34m]\u001b[0m\u001b[0;34m.\u001b[0m\u001b[0mset_xlabel\u001b[0m\u001b[0;34m(\u001b[0m\u001b[0;34m(\u001b[0m\u001b[0;34m''\u001b[0m\u001b[0;34m)\u001b[0m\u001b[0;34m)\u001b[0m\u001b[0;34m\u001b[0m\u001b[0;34m\u001b[0m\u001b[0m\n",
      "\u001b[0;31mNameError\u001b[0m: name 'trip_month_grouped_WD' is not defined"
     ]
    },
    {
     "data": {
      "image/png": "[encoded data removed]",
      "text/plain": [
       "<Figure size 1080x432 with 2 Axes>"
      ]
     },
     "metadata": {
      "needs_background": "light"
     },
     "output_type": "display_data"
    }
   ],
   "source": [
    "# Barplot for weekend and weekday\n",
    "\n",
    "def plotb(x,y,data,ax):\n",
    "    \n",
    "    g=sns.barplot(x=x, y=y, hue='subscription_type', data=data,palette={'Customer':(0.9, 0.0, 0.0), 'Subscriber':(0.0, 0.9, 0.0)}, ax=ax)\n",
    "    return g\n",
    "\n",
    "fig, ax = plt.subplots(1,2,sharex=True, sharey=True, figsize=[15,6])\n",
    "plotb(x='start_date_month', y='Number of Trips',data=trip_month_grouped_WD,ax=ax[0])\n",
    "plotb(x='start_date_month', y='Number of Trips',data=trip_month_grouped_WE,ax=ax[1])\n",
    "ax[0].set_xlabel((''))\n",
    "ax[0].set_ylabel('Number of Trips')\n",
    "ax[0].set_xticklabels(labels=['January','February','March','April','May','June','July','August','September','October',\n",
    "'November','December'], rotation=45)\n",
    "ax[0].set_title('Week')\n",
    "ax[1].set_xlabel((''))\n",
    "ax[1].set_ylabel((''))\n",
    "ax[1].set_xticklabels(labels=['January','February','March','April','May','June','July','August','September','October',\n",
    "'November','December'], rotation=45)\n",
    "ax[1].set_title('Weekend')\n",
    "plt.savefig('trips per month.png')\n",
    "plt.show()"
   ]
  },
  {
   "cell_type": "code",
   "execution_count": 118,
   "metadata": {},
   "outputs": [],
   "source": [
    "## HISTOGRAMS PER DAY OF THE WEEK\n",
    "\n",
    "trip_data_day = trip_data[['start_date', 'subscription_type', 'day_week']].copy()"
   ]
  },
  {
   "cell_type": "code",
   "execution_count": 119,
   "metadata": {},
   "outputs": [
    {
     "data": {
      "text/plain": [
       "array([3, 4, 5, 6, 0, 1, 2])"
      ]
     },
     "execution_count": 119,
     "metadata": {},
     "output_type": "execute_result"
    }
   ],
   "source": [
    "trip_data_day['day_week'].unique()"
   ]
  },
  {
   "cell_type": "code",
   "execution_count": 120,
   "metadata": {},
   "outputs": [],
   "source": [
    "trip_day_grouped = trip_data_day.groupby(['subscription_type']).agg({'day_week': 'value_counts'})"
   ]
  },
  {
   "cell_type": "code",
   "execution_count": 121,
   "metadata": {},
   "outputs": [
    {
     "data": {
      "text/html": [
       "<div>\n",
       "<style scoped>\n",
       "    .dataframe tbody tr th:only-of-type {\n",
       "        vertical-align: middle;\n",
       "    }\n",
       "\n",
       "    .dataframe tbody tr th {\n",
       "        vertical-align: top;\n",
       "    }\n",
       "\n",
       "    .dataframe thead th {\n",
       "        text-align: right;\n",
       "    }\n",
       "</style>\n",
       "<table border=\"1\" class=\"dataframe\">\n",
       "  <thead>\n",
       "    <tr style=\"text-align: right;\">\n",
       "      <th></th>\n",
       "      <th>start_date</th>\n",
       "      <th>subscription_type</th>\n",
       "      <th>day_week</th>\n",
       "    </tr>\n",
       "  </thead>\n",
       "  <tbody>\n",
       "    <tr>\n",
       "      <th>0</th>\n",
       "      <td>2013-08-29 14:13:00</td>\n",
       "      <td>Subscriber</td>\n",
       "      <td>3</td>\n",
       "    </tr>\n",
       "    <tr>\n",
       "      <th>1</th>\n",
       "      <td>2013-08-29 14:42:00</td>\n",
       "      <td>Subscriber</td>\n",
       "      <td>3</td>\n",
       "    </tr>\n",
       "    <tr>\n",
       "      <th>2</th>\n",
       "      <td>2013-08-29 10:16:00</td>\n",
       "      <td>Subscriber</td>\n",
       "      <td>3</td>\n",
       "    </tr>\n",
       "    <tr>\n",
       "      <th>3</th>\n",
       "      <td>2013-08-29 11:29:00</td>\n",
       "      <td>Subscriber</td>\n",
       "      <td>3</td>\n",
       "    </tr>\n",
       "    <tr>\n",
       "      <th>4</th>\n",
       "      <td>2013-08-29 12:02:00</td>\n",
       "      <td>Subscriber</td>\n",
       "      <td>3</td>\n",
       "    </tr>\n",
       "  </tbody>\n",
       "</table>\n",
       "</div>"
      ],
      "text/plain": [
       "           start_date subscription_type  day_week\n",
       "0 2013-08-29 14:13:00        Subscriber         3\n",
       "1 2013-08-29 14:42:00        Subscriber         3\n",
       "2 2013-08-29 10:16:00        Subscriber         3\n",
       "3 2013-08-29 11:29:00        Subscriber         3\n",
       "4 2013-08-29 12:02:00        Subscriber         3"
      ]
     },
     "execution_count": 121,
     "metadata": {},
     "output_type": "execute_result"
    }
   ],
   "source": [
    "trip_data_day.head()"
   ]
  },
  {
   "cell_type": "code",
   "execution_count": 22,
   "metadata": {},
   "outputs": [],
   "source": [
    "#trip_day_grouped # 0 is monday, 6 is sunday"
   ]
  },
  {
   "cell_type": "code",
   "execution_count": 122,
   "metadata": {},
   "outputs": [],
   "source": [
    "trip_day_grouped.rename(columns={'day_week': 'Number of Trips'}, inplace=True)"
   ]
  },
  {
   "cell_type": "code",
   "execution_count": 123,
   "metadata": {},
   "outputs": [
    {
     "data": {
      "text/html": [
       "<div>\n",
       "<style scoped>\n",
       "    .dataframe tbody tr th:only-of-type {\n",
       "        vertical-align: middle;\n",
       "    }\n",
       "\n",
       "    .dataframe tbody tr th {\n",
       "        vertical-align: top;\n",
       "    }\n",
       "\n",
       "    .dataframe thead th {\n",
       "        text-align: right;\n",
       "    }\n",
       "</style>\n",
       "<table border=\"1\" class=\"dataframe\">\n",
       "  <thead>\n",
       "    <tr style=\"text-align: right;\">\n",
       "      <th></th>\n",
       "      <th>subscription_type</th>\n",
       "      <th>day_week</th>\n",
       "      <th>Number of Trips</th>\n",
       "    </tr>\n",
       "  </thead>\n",
       "  <tbody>\n",
       "    <tr>\n",
       "      <th>0</th>\n",
       "      <td>Customer</td>\n",
       "      <td>5</td>\n",
       "      <td>22125</td>\n",
       "    </tr>\n",
       "    <tr>\n",
       "      <th>1</th>\n",
       "      <td>Customer</td>\n",
       "      <td>6</td>\n",
       "      <td>19687</td>\n",
       "    </tr>\n",
       "    <tr>\n",
       "      <th>2</th>\n",
       "      <td>Customer</td>\n",
       "      <td>4</td>\n",
       "      <td>14946</td>\n",
       "    </tr>\n",
       "    <tr>\n",
       "      <th>3</th>\n",
       "      <td>Customer</td>\n",
       "      <td>3</td>\n",
       "      <td>12451</td>\n",
       "    </tr>\n",
       "    <tr>\n",
       "      <th>4</th>\n",
       "      <td>Customer</td>\n",
       "      <td>2</td>\n",
       "      <td>11495</td>\n",
       "    </tr>\n",
       "  </tbody>\n",
       "</table>\n",
       "</div>"
      ],
      "text/plain": [
       "  subscription_type  day_week  Number of Trips\n",
       "0          Customer         5            22125\n",
       "1          Customer         6            19687\n",
       "2          Customer         4            14946\n",
       "3          Customer         3            12451\n",
       "4          Customer         2            11495"
      ]
     },
     "execution_count": 123,
     "metadata": {},
     "output_type": "execute_result"
    }
   ],
   "source": [
    "trip_day_grouped.reset_index(inplace=True)\n",
    "\n",
    "trip_day_grouped.head()"
   ]
  },
  {
   "cell_type": "code",
   "execution_count": 125,
   "metadata": {},
   "outputs": [
    {
     "data": {
      "image/png": "[encoded data removed]",
      "text/plain": [
       "<Figure size 1080x432 with 1 Axes>"
      ]
     },
     "metadata": {
      "needs_background": "light"
     },
     "output_type": "display_data"
    }
   ],
   "source": [
    "x=trip_day_grouped['day_week']\n",
    "y=trip_day_grouped['Number of Trips']\n",
    "\n",
    "fig= plt.figure(figsize=[15,6])\n",
    "ax=sns.barplot(x=x, y=y, hue='subscription_type',palette='vlag', data=trip_day_grouped)\n",
    "ax.set_xlabel((''))\n",
    "ax.set_ylabel('Number of Trips')\n",
    "ax.set_xticklabels(labels=['Monday','Tuesday','Wednesday','Thursday','Friday','Saturday','Sunday'], rotation=45)\n",
    "plt.savefig('trips_days.png')\n",
    "plt.show()"
   ]
  },
  {
   "cell_type": "code",
   "execution_count": 104,
   "metadata": {},
   "outputs": [],
   "source": [
    "# Number of Trips per Hour\n",
    "\n",
    "## WEEKDAY SERIES\n",
    "\n",
    "trip_data_hour_WD = trip_data_WD[['start_date', 'subscription_type']].copy()\n",
    "\n",
    "trip_data_hour_WD['start_date']=trip_data_hour_WD['start_date'].dt.hour\n",
    "\n",
    "#trip_data_hour_WD.head()\n",
    "\n",
    "trip_data_hour_grouped_WD = trip_data_hour_WD.groupby(by=['start_date']).agg({'subscription_type':'value_counts'})\n",
    "\n",
    "trip_data_hour_grouped_WD.rename(columns={'subscription_type':'Number of Trips'},inplace=True)\n",
    "\n",
    "trip_data_hour_grouped_WD.reset_index(inplace=True)\n",
    "\n",
    "#trip_data_hour_grouped_WD.head()"
   ]
  },
  {
   "cell_type": "code",
   "execution_count": 105,
   "metadata": {},
   "outputs": [],
   "source": [
    "## WEEKEND SERIES\n",
    "\n",
    "trip_data_hour_WE = trip_data_WE[['start_date', 'subscription_type']].copy()\n",
    "\n",
    "trip_data_hour_WE['start_date']=trip_data_hour_WE['start_date'].dt.hour\n",
    "\n",
    "#trip_data_hour_WD.head()\n",
    "\n",
    "trip_data_hour_grouped_WE = trip_data_hour_WE.groupby(by=['start_date']).agg({'subscription_type':'value_counts'})\n",
    "\n",
    "trip_data_hour_grouped_WE.rename(columns={'subscription_type':'Number of Trips'},inplace=True)\n",
    "\n",
    "trip_data_hour_grouped_WE.reset_index(inplace=True)"
   ]
  },
  {
   "cell_type": "markdown",
   "metadata": {},
   "source": [
    "# THREE TYPES OF GRAPHS FOR data with very different scales\n",
    "\n",
    "#### WALTER "
   ]
  },
  {
   "cell_type": "code",
   "execution_count": 124,
   "metadata": {},
   "outputs": [
    {
     "data": {
      "image/png": "[encoded data removed]",
      "text/plain": [
       "<Figure size 1080x432 with 2 Axes>"
      ]
     },
     "metadata": {
      "needs_background": "light"
     },
     "output_type": "display_data"
    }
   ],
   "source": [
    "## share y axis and lineal scale\n",
    "\n",
    "fig, ax = plt.subplots(1,2,sharex=True, sharey=True, figsize=[15,6])\n",
    "plotb(x='start_date', y='Number of Trips',data=trip_data_hour_grouped_WD,ax=ax[0])\n",
    "plotb(x='start_date', y='Number of Trips',data=trip_data_hour_grouped_WE,ax=ax[1])\n",
    "ax[0].set_ylabel('Number of Trips')\n",
    "ax[0].set_title('Week')\n",
    "ax[0].set_xlabel('Hour')\n",
    "\n",
    "ax[1].set_xlabel('Hour')\n",
    "ax[1].set_title('Weekend')\n",
    "ax[1].set_ylabel((''))\n",
    "plt.savefig('trips per hour.png')\n",
    "\n",
    "plt.show()"
   ]
  },
  {
   "cell_type": "code",
   "execution_count": 36,
   "metadata": {},
   "outputs": [
    {
     "data": {
      "image/png": "[encoded data removed]",
      "text/plain": [
       "<Figure size 1080x252 with 2 Axes>"
      ]
     },
     "metadata": {
      "needs_background": "light"
     },
     "output_type": "display_data"
    }
   ],
   "source": [
    "## share y axis and log scale\n",
    "\n",
    "fig, ax = plt.subplots(1,2,sharex=True, sharey=True, figsize=[15,3.5])\n",
    "plotb(x='start_date', y='Number of Trips',data=trip_data_hour_grouped_WE,ax=ax[0])\n",
    "plotb(x='start_date', y='Number of Trips',data=trip_data_hour_grouped_WD,ax=ax[1])\n",
    "ax[0].set_xlabel('Hour')\n",
    "ax[0].set_ylabel('Number of Trips')\n",
    "ax[0].set_title('Weekend')\n",
    "ax[1].set_xlabel('Hour')\n",
    "ax[1].set_title('Weekday')\n",
    "\n",
    "plt.yscale('log')\n",
    "plt.show()"
   ]
  },
  {
   "cell_type": "code",
   "execution_count": 110,
   "metadata": {},
   "outputs": [
    {
     "data": {
      "image/png": "[encoded data removed]",
      "text/plain": [
       "<Figure size 432x288 with 2 Axes>"
      ]
     },
     "metadata": {
      "needs_background": "light"
     },
     "output_type": "display_data"
    }
   ],
   "source": [
    "## Do not share axis, but shape of figure shows relative sizes (not exactly!!) between weekend and weekday\n",
    "\n",
    "\n",
    "fig3 = plt.figure(constrained_layout=True)\n",
    "gs = fig3.add_gridspec(6, 6)\n",
    "f3_ax1 = fig3.add_subplot(gs[0, :])\n",
    "plotb(x='start_date', y='Number of Trips',data=trip_data_hour_grouped_WE,ax=f3_ax1)\n",
    "f3_ax1.set_title('Weekend')\n",
    "f3_ax1.legend(loc='center left', bbox_to_anchor=(1, 0.5))\n",
    "f3_ax2 = fig3.add_subplot(gs[2:,:])\n",
    "f3_ax2.set_title('WeekDay')\n",
    "plotb(x='start_date', y='Number of Trips',data=trip_data_hour_grouped_WD,ax=f3_ax2)\n",
    "f3_ax2.legend(loc='center left', bbox_to_anchor=(1, 0.5))\n",
    "\n",
    "plt.show()\n"
   ]
  },
  {
   "cell_type": "code",
   "execution_count": 111,
   "metadata": {},
   "outputs": [
    {
     "data": {
      "image/png": "[encoded data removed]",
      "text/plain": [
       "<Figure size 1080x252 with 2 Axes>"
      ]
     },
     "metadata": {
      "needs_background": "light"
     },
     "output_type": "display_data"
    }
   ],
   "source": [
    "# Lineal scale, do not share y axis\n",
    "\n",
    "fig, ax = plt.subplots(1,2,sharex=True, sharey=False, figsize=[15,3.5])\n",
    "plotb(x='start_date', y='Number of Trips',data=trip_data_hour_grouped_WE,ax=ax[0])\n",
    "plotb(x='start_date', y='Number of Trips',data=trip_data_hour_grouped_WD,ax=ax[1])\n",
    "ax[0].set_xlabel('Hour')\n",
    "ax[0].set_ylabel('Number of Trips')\n",
    "ax[0].set_title('Weekend')\n",
    "ax[1].set_xlabel('Hour')\n",
    "ax[1].set_title('Weekday')\n",
    "plt.show()"
   ]
  },
  {
   "cell_type": "code",
   "execution_count": null,
   "metadata": {},
   "outputs": [],
   "source": []
  },
  {
   "cell_type": "code",
   "execution_count": null,
   "metadata": {},
   "outputs": [],
   "source": []
  },
  {
   "cell_type": "code",
   "execution_count": null,
   "metadata": {},
   "outputs": [],
   "source": []
  },
  {
   "cell_type": "code",
   "execution_count": null,
   "metadata": {},
   "outputs": [],
   "source": []
  },
  {
   "cell_type": "code",
   "execution_count": null,
   "metadata": {},
   "outputs": [],
   "source": []
  },
  {
   "cell_type": "code",
   "execution_count": null,
   "metadata": {},
   "outputs": [],
   "source": []
  },
  {
   "cell_type": "code",
   "execution_count": null,
   "metadata": {},
   "outputs": [],
   "source": []
  },
  {
   "cell_type": "code",
   "execution_count": null,
   "metadata": {},
   "outputs": [],
   "source": []
  }
 ],
 "metadata": {
  "kernelspec": {
   "display_name": "Python 3",
   "language": "python",
   "name": "python3"
  },
  "language_info": {
   "codemirror_mode": {
    "name": "ipython",
    "version": 3
   },
   "file_extension": ".py",
   "mimetype": "text/x-python",
   "name": "python",
   "nbconvert_exporter": "python",
   "pygments_lexer": "ipython3",
   "version": "3.6.9"
  }
 },
 "nbformat": 4,
 "nbformat_minor": 2
}
