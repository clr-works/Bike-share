{
 "cells": [
  {
   "cell_type": "markdown",
   "metadata": {},
   "source": [
    "##### Import relevant libraries"
   ]
  },
  {
   "cell_type": "code",
   "execution_count": 1,
   "metadata": {},
   "outputs": [],
   "source": [
    "import numpy as np\n",
    "import pandas as pd\n",
    "\n",
    "import matplotlib.pyplot as plt\n",
    "import seaborn as sns"
   ]
  },
  {
   "cell_type": "markdown",
   "metadata": {},
   "source": [
    "#### Read the files\n"
   ]
  },
  {
   "cell_type": "code",
   "execution_count": 2,
   "metadata": {},
   "outputs": [],
   "source": [
    "stations = pd.read_csv('station.csv')\n",
    "trips = pd.read_csv('trip.csv')"
   ]
  },
  {
   "cell_type": "code",
   "execution_count": 3,
   "metadata": {},
   "outputs": [
    {
     "data": {
      "text/html": [
       "<div>\n",
       "<style scoped>\n",
       "    .dataframe tbody tr th:only-of-type {\n",
       "        vertical-align: middle;\n",
       "    }\n",
       "\n",
       "    .dataframe tbody tr th {\n",
       "        vertical-align: top;\n",
       "    }\n",
       "\n",
       "    .dataframe thead th {\n",
       "        text-align: right;\n",
       "    }\n",
       "</style>\n",
       "<table border=\"1\" class=\"dataframe\">\n",
       "  <thead>\n",
       "    <tr style=\"text-align: right;\">\n",
       "      <th></th>\n",
       "      <th>id</th>\n",
       "      <th>name</th>\n",
       "      <th>lat</th>\n",
       "      <th>long</th>\n",
       "      <th>dock_count</th>\n",
       "      <th>city</th>\n",
       "      <th>installation_date</th>\n",
       "    </tr>\n",
       "  </thead>\n",
       "  <tbody>\n",
       "    <tr>\n",
       "      <th>0</th>\n",
       "      <td>2</td>\n",
       "      <td>San Jose Diridon Caltrain Station</td>\n",
       "      <td>37.329732</td>\n",
       "      <td>-121.901782</td>\n",
       "      <td>27</td>\n",
       "      <td>San Jose</td>\n",
       "      <td>8/6/2013</td>\n",
       "    </tr>\n",
       "  </tbody>\n",
       "</table>\n",
       "</div>"
      ],
      "text/plain": [
       "   id                               name        lat        long  dock_count  \\\n",
       "0   2  San Jose Diridon Caltrain Station  37.329732 -121.901782          27   \n",
       "\n",
       "       city installation_date  \n",
       "0  San Jose          8/6/2013  "
      ]
     },
     "execution_count": 3,
     "metadata": {},
     "output_type": "execute_result"
    }
   ],
   "source": [
    "stations.head(1)"
   ]
  },
  {
   "cell_type": "code",
   "execution_count": 4,
   "metadata": {},
   "outputs": [
    {
     "data": {
      "text/html": [
       "<div>\n",
       "<style scoped>\n",
       "    .dataframe tbody tr th:only-of-type {\n",
       "        vertical-align: middle;\n",
       "    }\n",
       "\n",
       "    .dataframe tbody tr th {\n",
       "        vertical-align: top;\n",
       "    }\n",
       "\n",
       "    .dataframe thead th {\n",
       "        text-align: right;\n",
       "    }\n",
       "</style>\n",
       "<table border=\"1\" class=\"dataframe\">\n",
       "  <thead>\n",
       "    <tr style=\"text-align: right;\">\n",
       "      <th></th>\n",
       "      <th>id</th>\n",
       "      <th>duration</th>\n",
       "      <th>start_date</th>\n",
       "      <th>start_station_name</th>\n",
       "      <th>start_station_id</th>\n",
       "      <th>end_date</th>\n",
       "      <th>end_station_name</th>\n",
       "      <th>end_station_id</th>\n",
       "      <th>bike_id</th>\n",
       "      <th>subscription_type</th>\n",
       "      <th>zip_code</th>\n",
       "    </tr>\n",
       "  </thead>\n",
       "  <tbody>\n",
       "    <tr>\n",
       "      <th>0</th>\n",
       "      <td>4576</td>\n",
       "      <td>63</td>\n",
       "      <td>8/29/2013 14:13</td>\n",
       "      <td>South Van Ness at Market</td>\n",
       "      <td>66</td>\n",
       "      <td>8/29/2013 14:14</td>\n",
       "      <td>South Van Ness at Market</td>\n",
       "      <td>66</td>\n",
       "      <td>520</td>\n",
       "      <td>Subscriber</td>\n",
       "      <td>94127</td>\n",
       "    </tr>\n",
       "  </tbody>\n",
       "</table>\n",
       "</div>"
      ],
      "text/plain": [
       "     id  duration       start_date        start_station_name  \\\n",
       "0  4576        63  8/29/2013 14:13  South Van Ness at Market   \n",
       "\n",
       "   start_station_id         end_date          end_station_name  \\\n",
       "0                66  8/29/2013 14:14  South Van Ness at Market   \n",
       "\n",
       "   end_station_id  bike_id subscription_type zip_code  \n",
       "0              66      520        Subscriber    94127  "
      ]
     },
     "execution_count": 4,
     "metadata": {},
     "output_type": "execute_result"
    }
   ],
   "source": [
    "trips.head(1)"
   ]
  },
  {
   "cell_type": "code",
   "execution_count": 5,
   "metadata": {},
   "outputs": [
    {
     "name": "stdout",
     "output_type": "stream",
     "text": [
      "<class 'pandas.core.frame.DataFrame'>\n",
      "RangeIndex: 70 entries, 0 to 69\n",
      "Data columns (total 7 columns):\n",
      "id                   70 non-null int64\n",
      "name                 70 non-null object\n",
      "lat                  70 non-null float64\n",
      "long                 70 non-null float64\n",
      "dock_count           70 non-null int64\n",
      "city                 70 non-null object\n",
      "installation_date    70 non-null object\n",
      "dtypes: float64(2), int64(2), object(3)\n",
      "memory usage: 4.0+ KB\n"
     ]
    }
   ],
   "source": [
    "stations.info()"
   ]
  },
  {
   "cell_type": "code",
   "execution_count": 6,
   "metadata": {},
   "outputs": [
    {
     "name": "stdout",
     "output_type": "stream",
     "text": [
      "<class 'pandas.core.frame.DataFrame'>\n",
      "RangeIndex: 669959 entries, 0 to 669958\n",
      "Data columns (total 11 columns):\n",
      "id                    669959 non-null int64\n",
      "duration              669959 non-null int64\n",
      "start_date            669959 non-null object\n",
      "start_station_name    669959 non-null object\n",
      "start_station_id      669959 non-null int64\n",
      "end_date              669959 non-null object\n",
      "end_station_name      669959 non-null object\n",
      "end_station_id        669959 non-null int64\n",
      "bike_id               669959 non-null int64\n",
      "subscription_type     669959 non-null object\n",
      "zip_code              663340 non-null object\n",
      "dtypes: int64(5), object(6)\n",
      "memory usage: 56.2+ MB\n"
     ]
    }
   ],
   "source": [
    "trips.info()"
   ]
  },
  {
   "cell_type": "markdown",
   "metadata": {},
   "source": [
    "#### Preprocess the datasets"
   ]
  },
  {
   "cell_type": "code",
   "execution_count": 7,
   "metadata": {},
   "outputs": [],
   "source": [
    "def total_trips():\n",
    "    \n",
    "        \"\"\" converts start and end date to pandas datetime object\n",
    "         generates a day indicator (0 to 5) column\n",
    "         generates a week/weekday indicator column\n",
    "         output : total_trips dataframe\"\"\"\n",
    "    \n",
    "        # to datetime object\n",
    "        trips['start_date'] = pd.to_datetime(trips['start_date'])\n",
    "        trips['end_date'] = pd.to_datetime(trips['end_date']) \n",
    "    \n",
    "        # day indicator column\n",
    "        trips['day_week'] = trips['start_date'].dt.weekday\n",
    "    \n",
    "        # week/weekend indicator column\n",
    "        week_indicator=[]\n",
    "    \n",
    "        for value in range(0,len(trips['duration'])):\n",
    "            if trips.iloc[value]['day_week']<5:\n",
    "                 week_indicator.append('week')\n",
    "            else:\n",
    "                week_indicator.append('weekend')   \n",
    "        \n",
    "        trips['week_indicator']= week_indicator\n",
    "        \n",
    "        # generate month indicator\n",
    "        \n",
    "        trips['Month'] = trips['start_date'].dt.month\n",
    "        \n",
    "        # generate hour indicator\n",
    "        \n",
    "        trips['Hour'] = trips['start_date'].dt.hour\n",
    "        \n",
    "        # generate column with duration in minutes\n",
    "        \n",
    "        trips['Duration_Minutes'] = trips['duration']/60\n",
    "    \n",
    "        return trips\n",
    "        \n",
    "        "
   ]
  },
  {
   "cell_type": "code",
   "execution_count": 8,
   "metadata": {},
   "outputs": [],
   "source": [
    "total_trips = total_trips()"
   ]
  },
  {
   "cell_type": "code",
   "execution_count": 9,
   "metadata": {},
   "outputs": [
    {
     "data": {
      "text/html": [
       "<div>\n",
       "<style scoped>\n",
       "    .dataframe tbody tr th:only-of-type {\n",
       "        vertical-align: middle;\n",
       "    }\n",
       "\n",
       "    .dataframe tbody tr th {\n",
       "        vertical-align: top;\n",
       "    }\n",
       "\n",
       "    .dataframe thead th {\n",
       "        text-align: right;\n",
       "    }\n",
       "</style>\n",
       "<table border=\"1\" class=\"dataframe\">\n",
       "  <thead>\n",
       "    <tr style=\"text-align: right;\">\n",
       "      <th></th>\n",
       "      <th>id</th>\n",
       "      <th>duration</th>\n",
       "      <th>start_date</th>\n",
       "      <th>start_station_name</th>\n",
       "      <th>start_station_id</th>\n",
       "      <th>end_date</th>\n",
       "      <th>end_station_name</th>\n",
       "      <th>end_station_id</th>\n",
       "      <th>bike_id</th>\n",
       "      <th>subscription_type</th>\n",
       "      <th>zip_code</th>\n",
       "      <th>day_week</th>\n",
       "      <th>week_indicator</th>\n",
       "      <th>Month</th>\n",
       "      <th>Hour</th>\n",
       "      <th>Duration_Minutes</th>\n",
       "    </tr>\n",
       "  </thead>\n",
       "  <tbody>\n",
       "    <tr>\n",
       "      <th>0</th>\n",
       "      <td>4576</td>\n",
       "      <td>63</td>\n",
       "      <td>2013-08-29 14:13:00</td>\n",
       "      <td>South Van Ness at Market</td>\n",
       "      <td>66</td>\n",
       "      <td>2013-08-29 14:14:00</td>\n",
       "      <td>South Van Ness at Market</td>\n",
       "      <td>66</td>\n",
       "      <td>520</td>\n",
       "      <td>Subscriber</td>\n",
       "      <td>94127</td>\n",
       "      <td>3</td>\n",
       "      <td>week</td>\n",
       "      <td>8</td>\n",
       "      <td>14</td>\n",
       "      <td>1.05</td>\n",
       "    </tr>\n",
       "  </tbody>\n",
       "</table>\n",
       "</div>"
      ],
      "text/plain": [
       "     id  duration          start_date        start_station_name  \\\n",
       "0  4576        63 2013-08-29 14:13:00  South Van Ness at Market   \n",
       "\n",
       "   start_station_id            end_date          end_station_name  \\\n",
       "0                66 2013-08-29 14:14:00  South Van Ness at Market   \n",
       "\n",
       "   end_station_id  bike_id subscription_type zip_code  day_week  \\\n",
       "0              66      520        Subscriber    94127         3   \n",
       "\n",
       "  week_indicator  Month  Hour  Duration_Minutes  \n",
       "0           week      8    14              1.05  "
      ]
     },
     "execution_count": 9,
     "metadata": {},
     "output_type": "execute_result"
    }
   ],
   "source": [
    "total_trips.head(1)   "
   ]
  },
  {
   "cell_type": "markdown",
   "metadata": {},
   "source": [
    "### Visualize distribution of Trips Duration"
   ]
  },
  {
   "cell_type": "code",
   "execution_count": 10,
   "metadata": {},
   "outputs": [
    {
     "data": {
      "image/png": "[encoded data removed]",
      "text/plain": [
       "<Figure size 1080x432 with 2 Axes>"
      ]
     },
     "metadata": {
      "needs_background": "light"
     },
     "output_type": "display_data"
    }
   ],
   "source": [
    "fig, ax= plt.subplots(1,2,figsize=[15,6])\n",
    "\n",
    "sns.distplot(total_trips['Duration_Minutes'], kde=True, color=(0.0, 0.0, 0.0, 0.0),ax=ax[0])\n",
    "ax[0].set_ylabel('Density (Total Trips)')\n",
    "sns.boxplot(total_trips['Duration_Minutes'], ax=ax[1], color='white')\n",
    "ax[1].set_xlabel('Duration in Minutes')\n",
    "\n",
    "plt.savefig('Distribution_duration.png')\n",
    "\n",
    "plt.show()"
   ]
  },
  {
   "cell_type": "markdown",
   "metadata": {},
   "source": [
    "##### The distribution is very skewed due to a few outliers. It makes sense to cap it in order to better visualize it"
   ]
  },
  {
   "cell_type": "code",
   "execution_count": 11,
   "metadata": {},
   "outputs": [
    {
     "name": "stdout",
     "output_type": "stream",
     "text": [
      "287840.0\n",
      "18.46583076974363\n",
      "8.616666666666667\n"
     ]
    }
   ],
   "source": [
    "print(total_trips['Duration_Minutes'].max())\n",
    "print(total_trips['Duration_Minutes'].mean())\n",
    "print(total_trips['Duration_Minutes'].median())"
   ]
  },
  {
   "cell_type": "markdown",
   "metadata": {},
   "source": [
    "##### Define capped dataframe and generate two separate series for weekend and weekday"
   ]
  },
  {
   "cell_type": "code",
   "execution_count": 12,
   "metadata": {},
   "outputs": [],
   "source": [
    "total_trips_capped = total_trips[total_trips['duration']<5000]\n",
    "\n",
    "total_trips_capped_WD = total_trips_capped[total_trips_capped['week_indicator']=='week']\n",
    "\n",
    "total_trips_capped_WE = total_trips_capped[total_trips_capped['week_indicator']=='weekend']\n"
   ]
  },
  {
   "cell_type": "code",
   "execution_count": 195,
   "metadata": {},
   "outputs": [
    {
     "data": {
      "image/png": "[encoded data removed]",
      "text/plain": [
       "<Figure size 1080x432 with 2 Axes>"
      ]
     },
     "metadata": {
      "needs_background": "light"
     },
     "output_type": "display_data"
    }
   ],
   "source": [
    "# reexamine distribution\n",
    "\n",
    "fig, ax= plt.subplots(1,2,figsize=[15,6])\n",
    "\n",
    "sns.distplot(total_trips_capped['Duration_Minutes'], kde=True, color=(0.0, 0.0, 0.0, 0.0),ax=ax[0])\n",
    "ax[0].set_ylabel('Density (Total Trips)')\n",
    "sns.boxplot(total_trips_capped['Duration_Minutes'], ax=ax[1], color='white')\n",
    "ax[1].set_xlabel('Duration in Minutes')\n",
    "\n",
    "plt.savefig('Distribution_duration.png')\n",
    "\n",
    "plt.show()"
   ]
  },
  {
   "cell_type": "markdown",
   "metadata": {},
   "source": [
    "### Visualize distribution of activity per day of the week, for customers and subscribers"
   ]
  },
  {
   "cell_type": "code",
   "execution_count": 15,
   "metadata": {},
   "outputs": [],
   "source": [
    "# Define some helper functions for graphs and variables for the graphs\n",
    "\n",
    "def plotb(x,y,data,ax):\n",
    "    \n",
    "    g=sns.barplot(x=x, y=y, hue='subscription_type', data=data,palette={'Customer':(0.9, 0.0, 0.0), 'Subscriber':(0.0, 0.9, 0.0)}, ax=ax)\n",
    "    return g\n",
    "\n"
   ]
  },
  {
   "cell_type": "code",
   "execution_count": 16,
   "metadata": {},
   "outputs": [],
   "source": [
    "total_trips_capped_day = total_trips_capped.groupby(['subscription_type']).agg(Number_of_Trips=('day_week','value_counts'))"
   ]
  },
  {
   "cell_type": "code",
   "execution_count": 17,
   "metadata": {},
   "outputs": [],
   "source": [
    "total_trips_capped_day.reset_index(inplace=True)"
   ]
  },
  {
   "cell_type": "code",
   "execution_count": 18,
   "metadata": {},
   "outputs": [
    {
     "data": {
      "image/png": "[encoded data removed]",
      "text/plain": [
       "<Figure size 1080x432 with 1 Axes>"
      ]
     },
     "metadata": {
      "needs_background": "light"
     },
     "output_type": "display_data"
    }
   ],
   "source": [
    "x=total_trips_capped_day['day_week']\n",
    "y=total_trips_capped_day['Number_of_Trips']\n",
    "palette={'Customer':(0.9, 0.0, 0.0), 'Subscriber':(0.0, 0.9, 0.0)}\n",
    "\n",
    "fig= plt.figure(figsize=[15,6])\n",
    "ax=sns.barplot(x=x,y=y,hue='subscription_type',palette=palette, data=total_trips_capped_day)\n",
    "ax.set_xlabel((''))\n",
    "ax.set_ylabel('Number of Trips')\n",
    "ax.set_xticklabels(labels=['Monday','Tuesday','Wednesday','Thursday','Friday','Saturday','Sunday'], rotation=45)\n",
    "plt.savefig('Distribution_trips_perDay.png')\n",
    "plt.show()"
   ]
  },
  {
   "cell_type": "markdown",
   "metadata": {},
   "source": [
    "### Visualize distribution of activity per month, for customers and subscribers"
   ]
  },
  {
   "cell_type": "code",
   "execution_count": 19,
   "metadata": {},
   "outputs": [],
   "source": [
    "# aggregate for the weekday series\n",
    "\n",
    "total_trips_capped_WD_month = total_trips_capped_WD.groupby(['subscription_type']).agg(Number_of_Trips=('Month','value_counts'))"
   ]
  },
  {
   "cell_type": "code",
   "execution_count": 20,
   "metadata": {},
   "outputs": [
    {
     "data": {
      "text/html": [
       "<div>\n",
       "<style scoped>\n",
       "    .dataframe tbody tr th:only-of-type {\n",
       "        vertical-align: middle;\n",
       "    }\n",
       "\n",
       "    .dataframe tbody tr th {\n",
       "        vertical-align: top;\n",
       "    }\n",
       "\n",
       "    .dataframe thead th {\n",
       "        text-align: right;\n",
       "    }\n",
       "</style>\n",
       "<table border=\"1\" class=\"dataframe\">\n",
       "  <thead>\n",
       "    <tr style=\"text-align: right;\">\n",
       "      <th></th>\n",
       "      <th>subscription_type</th>\n",
       "      <th>Month</th>\n",
       "      <th>Number_of_Trips</th>\n",
       "    </tr>\n",
       "  </thead>\n",
       "  <tbody>\n",
       "    <tr>\n",
       "      <th>0</th>\n",
       "      <td>Customer</td>\n",
       "      <td>9</td>\n",
       "      <td>7354</td>\n",
       "    </tr>\n",
       "  </tbody>\n",
       "</table>\n",
       "</div>"
      ],
      "text/plain": [
       "  subscription_type  Month  Number_of_Trips\n",
       "0          Customer      9             7354"
      ]
     },
     "execution_count": 20,
     "metadata": {},
     "output_type": "execute_result"
    }
   ],
   "source": [
    "total_trips_capped_WD_month.reset_index(inplace=True)\n",
    "total_trips_capped_WD_month.head(1)"
   ]
  },
  {
   "cell_type": "code",
   "execution_count": 21,
   "metadata": {},
   "outputs": [
    {
     "data": {
      "text/html": [
       "<div>\n",
       "<style scoped>\n",
       "    .dataframe tbody tr th:only-of-type {\n",
       "        vertical-align: middle;\n",
       "    }\n",
       "\n",
       "    .dataframe tbody tr th {\n",
       "        vertical-align: top;\n",
       "    }\n",
       "\n",
       "    .dataframe thead th {\n",
       "        text-align: right;\n",
       "    }\n",
       "</style>\n",
       "<table border=\"1\" class=\"dataframe\">\n",
       "  <thead>\n",
       "    <tr style=\"text-align: right;\">\n",
       "      <th></th>\n",
       "      <th>subscription_type</th>\n",
       "      <th>Month</th>\n",
       "      <th>Number_of_Trips</th>\n",
       "    </tr>\n",
       "  </thead>\n",
       "  <tbody>\n",
       "    <tr>\n",
       "      <th>0</th>\n",
       "      <td>Customer</td>\n",
       "      <td>9</td>\n",
       "      <td>4443</td>\n",
       "    </tr>\n",
       "  </tbody>\n",
       "</table>\n",
       "</div>"
      ],
      "text/plain": [
       "  subscription_type  Month  Number_of_Trips\n",
       "0          Customer      9             4443"
      ]
     },
     "execution_count": 21,
     "metadata": {},
     "output_type": "execute_result"
    }
   ],
   "source": [
    "# aggregate for weekend series\n",
    "\n",
    "total_trips_capped_WE_month = total_trips_capped_WE.groupby(['subscription_type']).agg(Number_of_Trips=('Month','value_counts'))\n",
    "\n",
    "total_trips_capped_WE_month.reset_index(inplace=True)\n",
    "total_trips_capped_WE_month.head(1)"
   ]
  },
  {
   "cell_type": "code",
   "execution_count": 22,
   "metadata": {},
   "outputs": [
    {
     "data": {
      "image/png": "[encoded data removed]",
      "text/plain": [
       "<Figure size 1080x432 with 2 Axes>"
      ]
     },
     "metadata": {
      "needs_background": "light"
     },
     "output_type": "display_data"
    }
   ],
   "source": [
    "fig, ax = plt.subplots(1,2,sharex=True, sharey=True, figsize=[15,6])\n",
    "plotb(x='Month', y='Number_of_Trips',data=total_trips_capped_WD_month,ax=ax[0])\n",
    "plotb(x='Month', y='Number_of_Trips',data=total_trips_capped_WE_month,ax=ax[1])\n",
    "ax[0].set_xlabel((''))\n",
    "ax[0].set_ylabel('Number of Trips')\n",
    "ax[0].set_xticklabels(labels=['January','February','March','April','May','June','July','August','September','October',\n",
    "'November','December'], rotation=45)\n",
    "ax[0].set_title('Week')\n",
    "ax[1].set_xlabel((''))\n",
    "ax[1].set_ylabel((''))\n",
    "ax[1].set_xticklabels(labels=['January','February','March','April','May','June','July','August','September','October',\n",
    "'November','December'], rotation=45)\n",
    "ax[1].set_title('Weekend')\n",
    "plt.savefig('trips per month.png')\n",
    "plt.show()"
   ]
  },
  {
   "cell_type": "markdown",
   "metadata": {},
   "source": [
    "### Visualize distribution of activity per hour, for customers and subscribers"
   ]
  },
  {
   "cell_type": "code",
   "execution_count": 23,
   "metadata": {},
   "outputs": [],
   "source": [
    "# aggregate for the weekday series\n",
    "\n",
    "total_trips_capped_WD_hour = total_trips_capped_WD.groupby(['subscription_type']).agg(Number_of_Trips=('Hour','value_counts'))"
   ]
  },
  {
   "cell_type": "code",
   "execution_count": 24,
   "metadata": {},
   "outputs": [
    {
     "data": {
      "text/html": [
       "<div>\n",
       "<style scoped>\n",
       "    .dataframe tbody tr th:only-of-type {\n",
       "        vertical-align: middle;\n",
       "    }\n",
       "\n",
       "    .dataframe tbody tr th {\n",
       "        vertical-align: top;\n",
       "    }\n",
       "\n",
       "    .dataframe thead th {\n",
       "        text-align: right;\n",
       "    }\n",
       "</style>\n",
       "<table border=\"1\" class=\"dataframe\">\n",
       "  <thead>\n",
       "    <tr style=\"text-align: right;\">\n",
       "      <th></th>\n",
       "      <th>subscription_type</th>\n",
       "      <th>Hour</th>\n",
       "      <th>Number_of_Trips</th>\n",
       "    </tr>\n",
       "  </thead>\n",
       "  <tbody>\n",
       "    <tr>\n",
       "      <th>0</th>\n",
       "      <td>Customer</td>\n",
       "      <td>17</td>\n",
       "      <td>5067</td>\n",
       "    </tr>\n",
       "  </tbody>\n",
       "</table>\n",
       "</div>"
      ],
      "text/plain": [
       "  subscription_type  Hour  Number_of_Trips\n",
       "0          Customer    17             5067"
      ]
     },
     "execution_count": 24,
     "metadata": {},
     "output_type": "execute_result"
    }
   ],
   "source": [
    "total_trips_capped_WD_hour.reset_index(inplace=True)\n",
    "total_trips_capped_WD_hour.head(1)"
   ]
  },
  {
   "cell_type": "code",
   "execution_count": 25,
   "metadata": {},
   "outputs": [],
   "source": [
    "# aggregate for the weekend series\n",
    "\n",
    "total_trips_capped_WE_hour = total_trips_capped_WE.groupby(['subscription_type']).agg(Number_of_Trips=('Hour','value_counts'))"
   ]
  },
  {
   "cell_type": "code",
   "execution_count": 26,
   "metadata": {},
   "outputs": [
    {
     "data": {
      "text/html": [
       "<div>\n",
       "<style scoped>\n",
       "    .dataframe tbody tr th:only-of-type {\n",
       "        vertical-align: middle;\n",
       "    }\n",
       "\n",
       "    .dataframe tbody tr th {\n",
       "        vertical-align: top;\n",
       "    }\n",
       "\n",
       "    .dataframe thead th {\n",
       "        text-align: right;\n",
       "    }\n",
       "</style>\n",
       "<table border=\"1\" class=\"dataframe\">\n",
       "  <thead>\n",
       "    <tr style=\"text-align: right;\">\n",
       "      <th></th>\n",
       "      <th>subscription_type</th>\n",
       "      <th>Hour</th>\n",
       "      <th>Number_of_Trips</th>\n",
       "    </tr>\n",
       "  </thead>\n",
       "  <tbody>\n",
       "    <tr>\n",
       "      <th>0</th>\n",
       "      <td>Customer</td>\n",
       "      <td>13</td>\n",
       "      <td>3592</td>\n",
       "    </tr>\n",
       "  </tbody>\n",
       "</table>\n",
       "</div>"
      ],
      "text/plain": [
       "  subscription_type  Hour  Number_of_Trips\n",
       "0          Customer    13             3592"
      ]
     },
     "execution_count": 26,
     "metadata": {},
     "output_type": "execute_result"
    }
   ],
   "source": [
    "total_trips_capped_WE_hour.reset_index(inplace=True)\n",
    "total_trips_capped_WE_hour.head(1)"
   ]
  },
  {
   "cell_type": "code",
   "execution_count": 27,
   "metadata": {},
   "outputs": [
    {
     "data": {
      "image/png": "[encoded data removed]",
      "text/plain": [
       "<Figure size 1080x432 with 2 Axes>"
      ]
     },
     "metadata": {
      "needs_background": "light"
     },
     "output_type": "display_data"
    }
   ],
   "source": [
    "fig, ax = plt.subplots(1,2,sharex=True, sharey=True, figsize=[15,6])\n",
    "plotb(x='Hour', y='Number_of_Trips',data=total_trips_capped_WD_hour,ax=ax[0])\n",
    "plotb(x='Hour', y='Number_of_Trips',data=total_trips_capped_WE_hour,ax=ax[1])\n",
    "ax[0].set_xlabel((''))\n",
    "ax[0].set_ylabel('Number of Trips')\n",
    "\n",
    "ax[0].set_title('Week')\n",
    "ax[1].set_xlabel((''))\n",
    "ax[1].set_ylabel((''))\n",
    "\n",
    "ax[1].set_title('Weekend')\n",
    "plt.savefig('trips per month.png')\n",
    "plt.show()"
   ]
  },
  {
   "cell_type": "markdown",
   "metadata": {},
   "source": [
    "### Merge the data in station.csv with the trips data for the week and weekend time series"
   ]
  },
  {
   "cell_type": "code",
   "execution_count": 46,
   "metadata": {},
   "outputs": [
    {
     "data": {
      "text/html": [
       "<div>\n",
       "<style scoped>\n",
       "    .dataframe tbody tr th:only-of-type {\n",
       "        vertical-align: middle;\n",
       "    }\n",
       "\n",
       "    .dataframe tbody tr th {\n",
       "        vertical-align: top;\n",
       "    }\n",
       "\n",
       "    .dataframe thead th {\n",
       "        text-align: right;\n",
       "    }\n",
       "</style>\n",
       "<table border=\"1\" class=\"dataframe\">\n",
       "  <thead>\n",
       "    <tr style=\"text-align: right;\">\n",
       "      <th></th>\n",
       "      <th>id</th>\n",
       "      <th>duration</th>\n",
       "      <th>start_date</th>\n",
       "      <th>start_station_name</th>\n",
       "      <th>start_station_id</th>\n",
       "      <th>end_date</th>\n",
       "      <th>end_station_name</th>\n",
       "      <th>end_station_id</th>\n",
       "      <th>bike_id</th>\n",
       "      <th>subscription_type</th>\n",
       "      <th>zip_code</th>\n",
       "      <th>day_week</th>\n",
       "      <th>week_indicator</th>\n",
       "      <th>Month</th>\n",
       "      <th>Hour</th>\n",
       "      <th>Duration_Minutes</th>\n",
       "    </tr>\n",
       "  </thead>\n",
       "  <tbody>\n",
       "    <tr>\n",
       "      <th>0</th>\n",
       "      <td>4576</td>\n",
       "      <td>63</td>\n",
       "      <td>2013-08-29 14:13:00</td>\n",
       "      <td>South Van Ness at Market</td>\n",
       "      <td>66</td>\n",
       "      <td>2013-08-29 14:14:00</td>\n",
       "      <td>South Van Ness at Market</td>\n",
       "      <td>66</td>\n",
       "      <td>520</td>\n",
       "      <td>Subscriber</td>\n",
       "      <td>94127</td>\n",
       "      <td>3</td>\n",
       "      <td>week</td>\n",
       "      <td>8</td>\n",
       "      <td>14</td>\n",
       "      <td>1.05</td>\n",
       "    </tr>\n",
       "  </tbody>\n",
       "</table>\n",
       "</div>"
      ],
      "text/plain": [
       "     id  duration          start_date        start_station_name  \\\n",
       "0  4576        63 2013-08-29 14:13:00  South Van Ness at Market   \n",
       "\n",
       "   start_station_id            end_date          end_station_name  \\\n",
       "0                66 2013-08-29 14:14:00  South Van Ness at Market   \n",
       "\n",
       "   end_station_id  bike_id subscription_type zip_code  day_week  \\\n",
       "0              66      520        Subscriber    94127         3   \n",
       "\n",
       "  week_indicator  Month  Hour  Duration_Minutes  \n",
       "0           week      8    14              1.05  "
      ]
     },
     "execution_count": 46,
     "metadata": {},
     "output_type": "execute_result"
    }
   ],
   "source": [
    "total_trips_capped_WD.head(1)"
   ]
  },
  {
   "cell_type": "code",
   "execution_count": 47,
   "metadata": {},
   "outputs": [
    {
     "data": {
      "text/html": [
       "<div>\n",
       "<style scoped>\n",
       "    .dataframe tbody tr th:only-of-type {\n",
       "        vertical-align: middle;\n",
       "    }\n",
       "\n",
       "    .dataframe tbody tr th {\n",
       "        vertical-align: top;\n",
       "    }\n",
       "\n",
       "    .dataframe thead th {\n",
       "        text-align: right;\n",
       "    }\n",
       "</style>\n",
       "<table border=\"1\" class=\"dataframe\">\n",
       "  <thead>\n",
       "    <tr style=\"text-align: right;\">\n",
       "      <th></th>\n",
       "      <th>id</th>\n",
       "      <th>name</th>\n",
       "      <th>lat</th>\n",
       "      <th>long</th>\n",
       "      <th>dock_count</th>\n",
       "      <th>city</th>\n",
       "      <th>installation_date</th>\n",
       "    </tr>\n",
       "  </thead>\n",
       "  <tbody>\n",
       "    <tr>\n",
       "      <th>0</th>\n",
       "      <td>2</td>\n",
       "      <td>San Jose Diridon Caltrain Station</td>\n",
       "      <td>37.329732</td>\n",
       "      <td>-121.901782</td>\n",
       "      <td>27</td>\n",
       "      <td>San Jose</td>\n",
       "      <td>8/6/2013</td>\n",
       "    </tr>\n",
       "  </tbody>\n",
       "</table>\n",
       "</div>"
      ],
      "text/plain": [
       "   id                               name        lat        long  dock_count  \\\n",
       "0   2  San Jose Diridon Caltrain Station  37.329732 -121.901782          27   \n",
       "\n",
       "       city installation_date  \n",
       "0  San Jose          8/6/2013  "
      ]
     },
     "execution_count": 47,
     "metadata": {},
     "output_type": "execute_result"
    }
   ],
   "source": [
    "stations.head(1)"
   ]
  },
  {
   "cell_type": "code",
   "execution_count": 48,
   "metadata": {},
   "outputs": [],
   "source": [
    "merge_WD = pd.merge(total_trips_capped_WD, stations, left_on='start_station_id', right_on='id', how='inner')"
   ]
  },
  {
   "cell_type": "code",
   "execution_count": 49,
   "metadata": {},
   "outputs": [
    {
     "data": {
      "text/html": [
       "<div>\n",
       "<style scoped>\n",
       "    .dataframe tbody tr th:only-of-type {\n",
       "        vertical-align: middle;\n",
       "    }\n",
       "\n",
       "    .dataframe tbody tr th {\n",
       "        vertical-align: top;\n",
       "    }\n",
       "\n",
       "    .dataframe thead th {\n",
       "        text-align: right;\n",
       "    }\n",
       "</style>\n",
       "<table border=\"1\" class=\"dataframe\">\n",
       "  <thead>\n",
       "    <tr style=\"text-align: right;\">\n",
       "      <th></th>\n",
       "      <th>id_x</th>\n",
       "      <th>duration</th>\n",
       "      <th>start_date</th>\n",
       "      <th>start_station_name</th>\n",
       "      <th>start_station_id</th>\n",
       "      <th>end_date</th>\n",
       "      <th>end_station_name</th>\n",
       "      <th>end_station_id</th>\n",
       "      <th>bike_id</th>\n",
       "      <th>subscription_type</th>\n",
       "      <th>...</th>\n",
       "      <th>Month</th>\n",
       "      <th>Hour</th>\n",
       "      <th>Duration_Minutes</th>\n",
       "      <th>id_y</th>\n",
       "      <th>name</th>\n",
       "      <th>lat</th>\n",
       "      <th>long</th>\n",
       "      <th>dock_count</th>\n",
       "      <th>city</th>\n",
       "      <th>installation_date</th>\n",
       "    </tr>\n",
       "  </thead>\n",
       "  <tbody>\n",
       "    <tr>\n",
       "      <th>0</th>\n",
       "      <td>4576</td>\n",
       "      <td>63</td>\n",
       "      <td>2013-08-29 14:13:00</td>\n",
       "      <td>South Van Ness at Market</td>\n",
       "      <td>66</td>\n",
       "      <td>2013-08-29 14:14:00</td>\n",
       "      <td>South Van Ness at Market</td>\n",
       "      <td>66</td>\n",
       "      <td>520</td>\n",
       "      <td>Subscriber</td>\n",
       "      <td>...</td>\n",
       "      <td>8</td>\n",
       "      <td>14</td>\n",
       "      <td>1.05</td>\n",
       "      <td>66</td>\n",
       "      <td>South Van Ness at Market</td>\n",
       "      <td>37.774814</td>\n",
       "      <td>-122.418954</td>\n",
       "      <td>19</td>\n",
       "      <td>San Francisco</td>\n",
       "      <td>8/23/2013</td>\n",
       "    </tr>\n",
       "  </tbody>\n",
       "</table>\n",
       "<p>1 rows × 23 columns</p>\n",
       "</div>"
      ],
      "text/plain": [
       "   id_x  duration          start_date        start_station_name  \\\n",
       "0  4576        63 2013-08-29 14:13:00  South Van Ness at Market   \n",
       "\n",
       "   start_station_id            end_date          end_station_name  \\\n",
       "0                66 2013-08-29 14:14:00  South Van Ness at Market   \n",
       "\n",
       "   end_station_id  bike_id subscription_type  ... Month  Hour  \\\n",
       "0              66      520        Subscriber  ...     8    14   \n",
       "\n",
       "  Duration_Minutes  id_y                      name        lat        long  \\\n",
       "0             1.05    66  South Van Ness at Market  37.774814 -122.418954   \n",
       "\n",
       "  dock_count           city  installation_date  \n",
       "0         19  San Francisco          8/23/2013  \n",
       "\n",
       "[1 rows x 23 columns]"
      ]
     },
     "execution_count": 49,
     "metadata": {},
     "output_type": "execute_result"
    }
   ],
   "source": [
    "merge_WD.head(1)"
   ]
  },
  {
   "cell_type": "code",
   "execution_count": 57,
   "metadata": {},
   "outputs": [],
   "source": [
    "merge_WE = pd.merge(total_trips_capped_WE, stations, left_on='start_station_id', right_on='id', how='inner')"
   ]
  },
  {
   "cell_type": "markdown",
   "metadata": {},
   "source": [
    "### Visualize total trips per city and week/weekend"
   ]
  },
  {
   "cell_type": "code",
   "execution_count": 59,
   "metadata": {},
   "outputs": [],
   "source": [
    "merge_WD_groupedbyCity = merge_WD.groupby(['subscription_type']).agg(Number_of_Trips=('city','value_counts'))"
   ]
  },
  {
   "cell_type": "code",
   "execution_count": 61,
   "metadata": {},
   "outputs": [
    {
     "data": {
      "text/html": [
       "<div>\n",
       "<style scoped>\n",
       "    .dataframe tbody tr th:only-of-type {\n",
       "        vertical-align: middle;\n",
       "    }\n",
       "\n",
       "    .dataframe tbody tr th {\n",
       "        vertical-align: top;\n",
       "    }\n",
       "\n",
       "    .dataframe thead th {\n",
       "        text-align: right;\n",
       "    }\n",
       "</style>\n",
       "<table border=\"1\" class=\"dataframe\">\n",
       "  <thead>\n",
       "    <tr style=\"text-align: right;\">\n",
       "      <th></th>\n",
       "      <th></th>\n",
       "      <th>Number_of_Trips</th>\n",
       "    </tr>\n",
       "    <tr>\n",
       "      <th>subscription_type</th>\n",
       "      <th>city</th>\n",
       "      <th></th>\n",
       "    </tr>\n",
       "  </thead>\n",
       "  <tbody>\n",
       "    <tr>\n",
       "      <th>Customer</th>\n",
       "      <th>San Francisco</th>\n",
       "      <td>47610</td>\n",
       "    </tr>\n",
       "  </tbody>\n",
       "</table>\n",
       "</div>"
      ],
      "text/plain": [
       "                                 Number_of_Trips\n",
       "subscription_type city                          \n",
       "Customer          San Francisco            47610"
      ]
     },
     "execution_count": 61,
     "metadata": {},
     "output_type": "execute_result"
    }
   ],
   "source": [
    "merge_WD_groupedbyCity.head(1)"
   ]
  },
  {
   "cell_type": "code",
   "execution_count": 62,
   "metadata": {},
   "outputs": [],
   "source": [
    "merge_WD_groupedbyCity.reset_index(inplace=True)"
   ]
  },
  {
   "cell_type": "code",
   "execution_count": 35,
   "metadata": {},
   "outputs": [],
   "source": [
    "merge_WE_groupedbyCity = merge_WE.groupby(['subscription_type']).agg(Number_of_Trips=('city','value_counts'))"
   ]
  },
  {
   "cell_type": "code",
   "execution_count": 36,
   "metadata": {},
   "outputs": [],
   "source": [
    "merge_WE_groupedbyCity.reset_index(inplace=True)"
   ]
  },
  {
   "cell_type": "code",
   "execution_count": 37,
   "metadata": {},
   "outputs": [
    {
     "data": {
      "text/html": [
       "<div>\n",
       "<style scoped>\n",
       "    .dataframe tbody tr th:only-of-type {\n",
       "        vertical-align: middle;\n",
       "    }\n",
       "\n",
       "    .dataframe tbody tr th {\n",
       "        vertical-align: top;\n",
       "    }\n",
       "\n",
       "    .dataframe thead th {\n",
       "        text-align: right;\n",
       "    }\n",
       "</style>\n",
       "<table border=\"1\" class=\"dataframe\">\n",
       "  <thead>\n",
       "    <tr style=\"text-align: right;\">\n",
       "      <th></th>\n",
       "      <th>subscription_type</th>\n",
       "      <th>city</th>\n",
       "      <th>Number_of_Trips</th>\n",
       "    </tr>\n",
       "  </thead>\n",
       "  <tbody>\n",
       "    <tr>\n",
       "      <th>0</th>\n",
       "      <td>Customer</td>\n",
       "      <td>San Francisco</td>\n",
       "      <td>30102</td>\n",
       "    </tr>\n",
       "  </tbody>\n",
       "</table>\n",
       "</div>"
      ],
      "text/plain": [
       "  subscription_type           city  Number_of_Trips\n",
       "0          Customer  San Francisco            30102"
      ]
     },
     "execution_count": 37,
     "metadata": {},
     "output_type": "execute_result"
    }
   ],
   "source": [
    "merge_WE_groupedbyCity.head(1)"
   ]
  },
  {
   "cell_type": "code",
   "execution_count": 38,
   "metadata": {},
   "outputs": [
    {
     "data": {
      "image/png": "[encoded data removed]",
      "text/plain": [
       "<Figure size 1080x432 with 2 Axes>"
      ]
     },
     "metadata": {
      "needs_background": "light"
     },
     "output_type": "display_data"
    }
   ],
   "source": [
    "fig,ax=plt.subplots(1,2, sharex=True, sharey=True, figsize=[15,6])\n",
    "plotb(x='city',y='Number_of_Trips', data=merge_WD_groupedbyCity,ax=ax[0])\n",
    "plotb(x='city',y='Number_of_Trips', data=merge_WE_groupedbyCity,ax=ax[1])\n",
    "ax[0].set_ylabel('Number_of_Trips (log scale)')\n",
    "ax[0].set_xlabel((''))\n",
    "ax[0].set_yscale('log')\n",
    "ax[0].set_title('Week')\n",
    "ax[1].set_title('Weekend')\n",
    "ax[1].set_xlabel((''))\n",
    "ax[1].set_ylabel((''))\n",
    "ax[1].set_yscale('log')\n",
    "plt.savefig('cities')\n",
    "\n",
    "plt.show()"
   ]
  },
  {
   "cell_type": "markdown",
   "metadata": {},
   "source": [
    "### Visualize activity within the cities using heatmaps"
   ]
  },
  {
   "cell_type": "markdown",
   "metadata": {},
   "source": [
    "##### San Francisco"
   ]
  },
  {
   "cell_type": "code",
   "execution_count": 39,
   "metadata": {},
   "outputs": [],
   "source": [
    "## weekday san francisco\n",
    "\n",
    "merged_sf_WD = merge_WD[merge_WD['city']=='San Francisco']\n",
    "\n",
    "merged_sf_WD_grouped=merged_sf_WD.groupby(by=['name'],).agg(Number_of_Trips=('subscription_type','value_counts'))\n",
    "\n",
    "merged_sf_WD_grouped=merged_sf_WD_grouped.unstack(['subscription_type'])\n"
   ]
  },
  {
   "cell_type": "code",
   "execution_count": 40,
   "metadata": {},
   "outputs": [
    {
     "data": {
      "text/html": [
       "<div>\n",
       "<style scoped>\n",
       "    .dataframe tbody tr th:only-of-type {\n",
       "        vertical-align: middle;\n",
       "    }\n",
       "\n",
       "    .dataframe tbody tr th {\n",
       "        vertical-align: top;\n",
       "    }\n",
       "\n",
       "    .dataframe thead tr th {\n",
       "        text-align: left;\n",
       "    }\n",
       "\n",
       "    .dataframe thead tr:last-of-type th {\n",
       "        text-align: right;\n",
       "    }\n",
       "</style>\n",
       "<table border=\"1\" class=\"dataframe\">\n",
       "  <thead>\n",
       "    <tr>\n",
       "      <th></th>\n",
       "      <th colspan=\"2\" halign=\"left\">Number_of_Trips</th>\n",
       "    </tr>\n",
       "    <tr>\n",
       "      <th>subscription_type</th>\n",
       "      <th>Customer</th>\n",
       "      <th>Subscriber</th>\n",
       "    </tr>\n",
       "    <tr>\n",
       "      <th>name</th>\n",
       "      <th></th>\n",
       "      <th></th>\n",
       "    </tr>\n",
       "  </thead>\n",
       "  <tbody>\n",
       "    <tr>\n",
       "      <th>2nd at Folsom</th>\n",
       "      <td>711</td>\n",
       "      <td>13860</td>\n",
       "    </tr>\n",
       "  </tbody>\n",
       "</table>\n",
       "</div>"
      ],
      "text/plain": [
       "                  Number_of_Trips           \n",
       "subscription_type        Customer Subscriber\n",
       "name                                        \n",
       "2nd at Folsom                 711      13860"
      ]
     },
     "execution_count": 40,
     "metadata": {},
     "output_type": "execute_result"
    }
   ],
   "source": [
    "merged_sf_WD_grouped.head(1)"
   ]
  },
  {
   "cell_type": "code",
   "execution_count": 41,
   "metadata": {},
   "outputs": [],
   "source": [
    "## weekend san francisco\n",
    "\n",
    "merged_sf_WE = merge_WE[merge_WE['city']=='San Francisco']\n",
    "\n",
    "merged_sf_WE_grouped=merged_sf_WE.groupby(by=['name']).agg(Number_of_Trips=('subscription_type','value_counts'))\n",
    "\n",
    "merged_sf_WE_grouped=merged_sf_WE_grouped.unstack(['subscription_type'])"
   ]
  },
  {
   "cell_type": "code",
   "execution_count": 100,
   "metadata": {},
   "outputs": [
    {
     "data": {
      "image/png": "[encoded data removed]",
      "text/plain": [
       "<Figure size 1080x432 with 4 Axes>"
      ]
     },
     "metadata": {
      "needs_background": "light"
     },
     "output_type": "display_data"
    }
   ],
   "source": [
    "## san francisco weekday/weekend heatmap showing use of stations,customer and subscriber\n",
    "\n",
    "fig, ax= plt.subplots(2,1, figsize=[15,6])\n",
    "\n",
    "sns.heatmap(merged_sf_WD_grouped, ax=ax[0],cmap=\"YlGnBu\")\n",
    "ax[0].set_ylabel((''))\n",
    "ax[0].set_xlabel((''))\n",
    "ax[0].xaxis.set_ticklabels([])\n",
    "ax[0].set_title('Week')\n",
    "ax[0].set_yticklabels(labels=['2nd at Folsom','5th at Howard','Civic Center Bart','Davis at Jackson','Embarcadero','Grand Av at col av','Market at 10th','Mechanics Plaza','Powell at Post','City Hall','Steuart at Market','Washington at Kearney'])\n",
    "\n",
    "sns.heatmap(merged_sf_WE_grouped, ax=ax[1],cmap=\"BuPu\")\n",
    "ax[1].set_ylabel((''))\n",
    "ax[1].set_xlabel((''))\n",
    "ax[1].xaxis.set_ticklabels(['Customer','Subscriber'])\n",
    "ax[1].set_title('Weekend')\n",
    "ax[1].set_yticklabels(labels=['2nd at Folsom','5th at Howard','Civic Center Bart','Davis at Jackson','Embarcadero','Grand Av at col av','Market at 10th','Mechanics Plaza','Powell at Post','City Hall','Steuart at Market','Washington at Kearney'])\n",
    "\n",
    "plt.savefig('heatmap_sanfrancisco')\n",
    "\n",
    "plt.show()"
   ]
  },
  {
   "cell_type": "markdown",
   "metadata": {},
   "source": [
    "### Visualize distribution of distances    "
   ]
  },
  {
   "cell_type": "code",
   "execution_count": 101,
   "metadata": {},
   "outputs": [],
   "source": [
    "# We would like to examine the distribution of the distances that the riders cover. We will\n",
    "# define the distance as the linear distance between departure station and arrival station"
   ]
  },
  {
   "cell_type": "code",
   "execution_count": 156,
   "metadata": {},
   "outputs": [
    {
     "data": {
      "text/html": [
       "<div>\n",
       "<style scoped>\n",
       "    .dataframe tbody tr th:only-of-type {\n",
       "        vertical-align: middle;\n",
       "    }\n",
       "\n",
       "    .dataframe tbody tr th {\n",
       "        vertical-align: top;\n",
       "    }\n",
       "\n",
       "    .dataframe thead th {\n",
       "        text-align: right;\n",
       "    }\n",
       "</style>\n",
       "<table border=\"1\" class=\"dataframe\">\n",
       "  <thead>\n",
       "    <tr style=\"text-align: right;\">\n",
       "      <th></th>\n",
       "      <th>id</th>\n",
       "      <th>duration</th>\n",
       "      <th>start_date</th>\n",
       "      <th>start_station_name</th>\n",
       "      <th>start_station_id</th>\n",
       "      <th>end_date</th>\n",
       "      <th>end_station_name</th>\n",
       "      <th>end_station_id</th>\n",
       "      <th>bike_id</th>\n",
       "      <th>subscription_type</th>\n",
       "      <th>zip_code</th>\n",
       "      <th>day_week</th>\n",
       "      <th>week_indicator</th>\n",
       "      <th>Month</th>\n",
       "      <th>Hour</th>\n",
       "      <th>Duration_Minutes</th>\n",
       "    </tr>\n",
       "  </thead>\n",
       "  <tbody>\n",
       "    <tr>\n",
       "      <th>0</th>\n",
       "      <td>4576</td>\n",
       "      <td>63</td>\n",
       "      <td>2013-08-29 14:13:00</td>\n",
       "      <td>South Van Ness at Market</td>\n",
       "      <td>66</td>\n",
       "      <td>2013-08-29 14:14:00</td>\n",
       "      <td>South Van Ness at Market</td>\n",
       "      <td>66</td>\n",
       "      <td>520</td>\n",
       "      <td>Subscriber</td>\n",
       "      <td>94127</td>\n",
       "      <td>3</td>\n",
       "      <td>week</td>\n",
       "      <td>8</td>\n",
       "      <td>14</td>\n",
       "      <td>1.05</td>\n",
       "    </tr>\n",
       "  </tbody>\n",
       "</table>\n",
       "</div>"
      ],
      "text/plain": [
       "     id  duration          start_date        start_station_name  \\\n",
       "0  4576        63 2013-08-29 14:13:00  South Van Ness at Market   \n",
       "\n",
       "   start_station_id            end_date          end_station_name  \\\n",
       "0                66 2013-08-29 14:14:00  South Van Ness at Market   \n",
       "\n",
       "   end_station_id  bike_id subscription_type zip_code  day_week  \\\n",
       "0              66      520        Subscriber    94127         3   \n",
       "\n",
       "  week_indicator  Month  Hour  Duration_Minutes  \n",
       "0           week      8    14              1.05  "
      ]
     },
     "execution_count": 156,
     "metadata": {},
     "output_type": "execute_result"
    }
   ],
   "source": [
    "total_trips_capped.head(1)"
   ]
  },
  {
   "cell_type": "code",
   "execution_count": 163,
   "metadata": {},
   "outputs": [],
   "source": [
    "## generate a dataframe with latitudes and longitudes for starting and ending points\n",
    "\n",
    "def lat_long():\n",
    "    \n",
    "    # merge_1 in order to get starting lat and lon\n",
    "    merge_1 = pd.merge(total_trips_capped, stations, left_on='start_station_id', right_on='id', how='inner')\n",
    "    \n",
    "    # rename columns\n",
    "    merge_1.rename(columns={'lat':'lat_start','long':'lon_start'},inplace=True)\n",
    "    \n",
    "    # keep only necessary columns\n",
    "    merge_1 = merge_1[['lat_start','lon_start','end_station_id']]\n",
    "    \n",
    "    # merge_2 in order to get ending lat and lon\n",
    "    merge_2 =pd.merge(merge_1, stations, left_on='end_station_id',right_on='id', how='inner')\n",
    "    \n",
    "    # rename columns\n",
    "    merge_2.rename(columns={'lat':'lat_end','long':'lon_end'}, inplace=True)\n",
    "    \n",
    "    # keep only necessary columns\n",
    "    merge_2 = merge_2[['lat_start','lon_start','lat_end','lon_end']]\n",
    "    \n",
    "    return merge_2   "
   ]
  },
  {
   "cell_type": "code",
   "execution_count": 164,
   "metadata": {},
   "outputs": [],
   "source": [
    "merge_2 = lat_long()"
   ]
  },
  {
   "cell_type": "code",
   "execution_count": 165,
   "metadata": {},
   "outputs": [
    {
     "data": {
      "text/html": [
       "<div>\n",
       "<style scoped>\n",
       "    .dataframe tbody tr th:only-of-type {\n",
       "        vertical-align: middle;\n",
       "    }\n",
       "\n",
       "    .dataframe tbody tr th {\n",
       "        vertical-align: top;\n",
       "    }\n",
       "\n",
       "    .dataframe thead th {\n",
       "        text-align: right;\n",
       "    }\n",
       "</style>\n",
       "<table border=\"1\" class=\"dataframe\">\n",
       "  <thead>\n",
       "    <tr style=\"text-align: right;\">\n",
       "      <th></th>\n",
       "      <th>lat_start</th>\n",
       "      <th>lon_start</th>\n",
       "      <th>lat_end</th>\n",
       "      <th>lon_end</th>\n",
       "    </tr>\n",
       "  </thead>\n",
       "  <tbody>\n",
       "    <tr>\n",
       "      <th>0</th>\n",
       "      <td>37.774814</td>\n",
       "      <td>-122.418954</td>\n",
       "      <td>37.774814</td>\n",
       "      <td>-122.418954</td>\n",
       "    </tr>\n",
       "  </tbody>\n",
       "</table>\n",
       "</div>"
      ],
      "text/plain": [
       "   lat_start   lon_start    lat_end     lon_end\n",
       "0  37.774814 -122.418954  37.774814 -122.418954"
      ]
     },
     "execution_count": 165,
     "metadata": {},
     "output_type": "execute_result"
    }
   ],
   "source": [
    "merge_2.head(1)"
   ]
  },
  {
   "cell_type": "code",
   "execution_count": 173,
   "metadata": {},
   "outputs": [],
   "source": [
    "## Loop to calculate distances:\n",
    "\n",
    "from math import sin, cos, sqrt, atan2, radians\n",
    "\n",
    "distance=[]\n",
    "\n",
    "for value in range(0,len(merge_2.index)):\n",
    "\n",
    "        # approximate radius of earth in km\n",
    "        R = 6373.0\n",
    "\n",
    "        lat1 = radians(merge_2['lat_start'][value])\n",
    "        lon1 = radians(merge_2['lon_start'][value])\n",
    "        lat2 = radians(merge_2['lat_end'][value])\n",
    "        lon2 = radians(merge_2['lon_end'][value])\n",
    "\n",
    "        dlon = lon2 - lon1\n",
    "        dlat = lat2 - lat1\n",
    "\n",
    "        a = sin(dlat / 2)**2 + cos(lat1) * cos(lat2) * sin(dlon / 2)**2\n",
    "        c = 2 * atan2(sqrt(a), sqrt(1 - a))\n",
    "\n",
    "        dist = R * c\n",
    "        \n",
    "        distance.append(dist)   "
   ]
  },
  {
   "cell_type": "code",
   "execution_count": 183,
   "metadata": {},
   "outputs": [],
   "source": [
    "# Filter out values of 0 distance as they represent same starting and ending station\n",
    "\n",
    "distance_filtered = list(filter(lambda x: x != 0, distance))"
   ]
  },
  {
   "cell_type": "code",
   "execution_count": 205,
   "metadata": {},
   "outputs": [
    {
     "data": {
      "image/png": "[encoded data removed]",
      "text/plain": [
       "<Figure size 1080x432 with 2 Axes>"
      ]
     },
     "metadata": {
      "needs_background": "light"
     },
     "output_type": "display_data"
    }
   ],
   "source": [
    "## Distribution of trips distances (estimated as distance between departing and ending station)\n",
    "\n",
    "fig,ax = plt.subplots(1,2,sharex=True,figsize=[15,6])\n",
    "\n",
    "sns.distplot(distance_filtered, kde=True, ax=ax[0], color=(0.0, 0.0, 0.0, 0.0))\n",
    "sns.boxplot(distance_filtered, ax=ax[1], color='white')\n",
    "ax[0].set_xlabel('Distance in KM')\n",
    "ax[0].set_ylabel('Density')\n",
    "ax[1].set_xlabel('Distance in KM')\n",
    "\n",
    "\n",
    "plt.savefig('distance_km.png')\n",
    "plt.show()\n"
   ]
  },
  {
   "cell_type": "code",
   "execution_count": 204,
   "metadata": {},
   "outputs": [
    {
     "data": {
      "image/png": "[encoded data removed]",
      "text/plain": [
       "<Figure size 1080x432 with 2 Axes>"
      ]
     },
     "metadata": {
      "needs_background": "light"
     },
     "output_type": "display_data"
    }
   ],
   "source": [
    "## Distribution of trips distances (estimated as distance between departing and ending station)\n",
    "## Capped at 20 km\n",
    "\n",
    "fig,ax = plt.subplots(1,2,sharex=True,figsize=[15,6])\n",
    "\n",
    "sns.distplot(distance_filtered, kde=True, ax=ax[0], color=(0.0, 0.0, 0.0, 0.0))\n",
    "sns.boxplot(distance_filtered, ax=ax[1], color='white')\n",
    "ax[0].set_xlabel('Distance in KM')\n",
    "ax[0].set_xlim(0,20)\n",
    "ax[0].set_ylabel('Density')\n",
    "ax[1].set_xlabel('Distance in KM')\n",
    "\n",
    "\n",
    "plt.savefig('distance_20km.png')\n",
    "plt.show()"
   ]
  },
  {
   "cell_type": "code",
   "execution_count": null,
   "metadata": {},
   "outputs": [],
   "source": []
  },
  {
   "cell_type": "code",
   "execution_count": null,
   "metadata": {},
   "outputs": [],
   "source": []
  },
  {
   "cell_type": "code",
   "execution_count": null,
   "metadata": {},
   "outputs": [],
   "source": []
  }
 ],
 "metadata": {
  "kernelspec": {
   "display_name": "Python 3",
   "language": "python",
   "name": "python3"
  },
  "language_info": {
   "codemirror_mode": {
    "name": "ipython",
    "version": 3
   },
   "file_extension": ".py",
   "mimetype": "text/x-python",
   "name": "python",
   "nbconvert_exporter": "python",
   "pygments_lexer": "ipython3",
   "version": "3.6.9"
  }
 },
 "nbformat": 4,
 "nbformat_minor": 2
}
